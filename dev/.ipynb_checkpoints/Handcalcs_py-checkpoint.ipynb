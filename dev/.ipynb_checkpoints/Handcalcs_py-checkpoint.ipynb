{
 "cells": [
  {
   "cell_type": "code",
   "execution_count": 1,
   "id": "3f72a2f8",
   "metadata": {
    "hide_input": true
   },
   "outputs": [],
   "source": [
    "import handcalcs.render\n",
    "from handcalcs.decorator import handcalc\n",
    "from math import sqrt\n",
    "import forallpeople\n",
    "forallpeople.environment(\"structural\", top_level = True) "
   ]
  },
  {
   "cell_type": "code",
   "execution_count": 2,
   "id": "f49c205f",
   "metadata": {
    "hide_input": true
   },
   "outputs": [],
   "source": [
    "import pandas as pd\n",
    "import matplotlib.pyplot as plt"
   ]
  },
  {
   "cell_type": "markdown",
   "id": "2fc446e3",
   "metadata": {},
   "source": [
    "# Handcalc Demo"
   ]
  },
  {
   "cell_type": "code",
   "execution_count": 3,
   "id": "4518b6af",
   "metadata": {
    "hide_input": false
   },
   "outputs": [
    {
     "data": {
      "text/latex": [
       "\\[\n",
       "\\begin{aligned}\n",
       "a &= 2.000\\ \\mathrm{inch} \\; \n",
       " &b &= -5.000\\ \\mathrm{inch} \\; \n",
       " &c &= 2.000\\ \\mathrm{inch} \\; \n",
       "\\\\[10pt]\n",
       " h &= 10.000\\ \\mathrm{inch} \\;\n",
       "\\end{aligned}\n",
       "\\]"
      ],
      "text/plain": [
       "<IPython.core.display.Latex object>"
      ]
     },
     "metadata": {},
     "output_type": "display_data"
    }
   ],
   "source": [
    "%%render params\n",
    "a = 2*inch\n",
    "b = -5*inch\n",
    "c = 2*inch\n",
    "h = 10*inch"
   ]
  },
  {
   "cell_type": "markdown",
   "id": "4104deca",
   "metadata": {},
   "source": [
    "## Latex Formula"
   ]
  },
  {
   "cell_type": "code",
   "execution_count": 4,
   "id": "18e66bf1",
   "metadata": {
    "hide_input": true
   },
   "outputs": [
    {
     "data": {
      "text/latex": [
       "\\[\n",
       "\\begin{aligned}\n",
       "x &= \\frac{ \\left( - b \\right) + \\sqrt { \\left( b \\right) ^{ 2 } - 4 \\cdot a \\cdot c } }{ 2 \\cdot a }  = \\frac{ \\left( - -5.000\\ \\mathrm{inch} \\right) + \\sqrt { \\left( -5.000\\ \\mathrm{inch} \\right) ^{ 2 } - 4 \\cdot 2.000\\ \\mathrm{inch} \\cdot 2.000\\ \\mathrm{inch} } }{ 2 \\cdot 2.000\\ \\mathrm{inch} } &= 2.000  \n",
       "\\end{aligned}\n",
       "\\]"
      ],
      "text/plain": [
       "<IPython.core.display.Latex object>"
      ]
     },
     "metadata": {},
     "output_type": "display_data"
    }
   ],
   "source": [
    "%%render\n",
    "x = (-b + sqrt(b**2 - 4*a*c))/(2*a)"
   ]
  },
  {
   "cell_type": "code",
   "execution_count": 5,
   "id": "95b84d54",
   "metadata": {
    "hide_input": true,
    "scrolled": true
   },
   "outputs": [
    {
     "data": {
      "text/latex": [
       "\\[\n",
       "\\begin{aligned}\n",
       "d &= \\left( a + b \\right) \\cdot c  = \\left( 2.000\\ \\mathrm{inch} + -5.000\\ \\mathrm{inch} \\right) \\cdot 2.000\\ \\mathrm{inch} &= -6.000\\ \\mathrm{inch}^{2}  \n",
       "\\end{aligned}\n",
       "\\]"
      ],
      "text/plain": [
       "<IPython.core.display.Latex object>"
      ]
     },
     "metadata": {},
     "output_type": "display_data"
    }
   ],
   "source": [
    "%%render\n",
    "d = (a + b) * c"
   ]
  },
  {
   "cell_type": "code",
   "execution_count": 6,
   "id": "e992709f",
   "metadata": {
    "hide_input": true
   },
   "outputs": [],
   "source": [
    "@handcalc(jupyter_display=True)\n",
    "def calc_Ix(b, h):\n",
    "    I_x = b*h**3/12\n",
    "    return I_x"
   ]
  },
  {
   "cell_type": "code",
   "execution_count": 7,
   "id": "95bb638f",
   "metadata": {
    "hide_input": true
   },
   "outputs": [
    {
     "data": {
      "text/latex": [
       "\\[\n",
       "\\begin{aligned}\n",
       "I_{x} &= b \\cdot \\frac{ \\left( h \\right) ^{ 3 } }{ 12 }  = -5.000\\ \\mathrm{inch} \\cdot \\frac{ \\left( 10.000\\ \\mathrm{inch} \\right) ^{ 3 } }{ 12 } &= -416.667\\ \\mathrm{inch}^{4}  \n",
       "\\end{aligned}\n",
       "\\]"
      ],
      "text/plain": [
       "<IPython.core.display.Latex object>"
      ]
     },
     "metadata": {},
     "output_type": "display_data"
    }
   ],
   "source": [
    "I_x = calc_Ix(b, h)"
   ]
  },
  {
   "cell_type": "markdown",
   "id": "15a74a01",
   "metadata": {},
   "source": [
    "## Table Example"
   ]
  },
  {
   "cell_type": "code",
   "execution_count": 8,
   "id": "56167829",
   "metadata": {
    "hide_input": true
   },
   "outputs": [
    {
     "data": {
      "text/html": [
       "<div>\n",
       "<style scoped>\n",
       "    .dataframe tbody tr th:only-of-type {\n",
       "        vertical-align: middle;\n",
       "    }\n",
       "\n",
       "    .dataframe tbody tr th {\n",
       "        vertical-align: top;\n",
       "    }\n",
       "\n",
       "    .dataframe thead th {\n",
       "        text-align: right;\n",
       "    }\n",
       "</style>\n",
       "<table border=\"1\" class=\"dataframe\">\n",
       "  <thead>\n",
       "    <tr style=\"text-align: right;\">\n",
       "      <th></th>\n",
       "      <th>Height</th>\n",
       "      <th>Width</th>\n",
       "    </tr>\n",
       "  </thead>\n",
       "  <tbody>\n",
       "    <tr>\n",
       "      <th>0</th>\n",
       "      <td>2.000 inch</td>\n",
       "      <td>1.000 inch</td>\n",
       "    </tr>\n",
       "    <tr>\n",
       "      <th>1</th>\n",
       "      <td>4.000 inch</td>\n",
       "      <td>3.000 inch</td>\n",
       "    </tr>\n",
       "    <tr>\n",
       "      <th>2</th>\n",
       "      <td>6.000 inch</td>\n",
       "      <td>5.000 inch</td>\n",
       "    </tr>\n",
       "  </tbody>\n",
       "</table>\n",
       "</div>"
      ],
      "text/plain": [
       "       Height       Width\n",
       "0  2.000 inch  1.000 inch\n",
       "1  4.000 inch  3.000 inch\n",
       "2  6.000 inch  5.000 inch"
      ]
     },
     "execution_count": 8,
     "metadata": {},
     "output_type": "execute_result"
    }
   ],
   "source": [
    "df = pd.DataFrame({\"Height\": [2*inch, 4*inch, 6*inch], \"Width\": [1*inch, 3*inch, 5*inch]})\n",
    "df"
   ]
  },
  {
   "cell_type": "markdown",
   "id": "bf0a900f",
   "metadata": {},
   "source": [
    "## Plot Example"
   ]
  },
  {
   "cell_type": "code",
   "execution_count": 9,
   "id": "2e713fc1",
   "metadata": {
    "hide_input": false
   },
   "outputs": [],
   "source": [
    "y = range(-1000, 1000, 50)\n",
    "z = [i**2 for i in y]"
   ]
  },
  {
   "cell_type": "code",
   "execution_count": 10,
   "id": "d529c940",
   "metadata": {
    "hide_input": false
   },
   "outputs": [
    {
     "data": {
      "text/plain": [
       "[<matplotlib.lines.Line2D at 0x1ede16e7c70>]"
      ]
     },
     "execution_count": 10,
     "metadata": {},
     "output_type": "execute_result"
    },
    {
     "data": {
      "image/png": "[encoded data removed]",
      "text/plain": [
       "<Figure size 640x480 with 1 Axes>"
      ]
     },
     "metadata": {},
     "output_type": "display_data"
    }
   ],
   "source": [
    "fig = plt.plot(y, z)\n",
    "fig"
   ]
  },
  {
   "cell_type": "code",
   "execution_count": null,
   "id": "c670e769",
   "metadata": {},
   "outputs": [],
   "source": []
  }
 ],
 "metadata": {
  "kernelspec": {
   "display_name": "pfse",
   "language": "python",
   "name": "pfse"
  },
  "language_info": {
   "codemirror_mode": {
    "name": "ipython",
    "version": 3
   },
   "file_extension": ".py",
   "mimetype": "text/x-python",
   "name": "python",
   "nbconvert_exporter": "python",
   "pygments_lexer": "ipython3",
   "version": "3.10.12"
  }
 },
 "nbformat": 4,
 "nbformat_minor": 5
}
