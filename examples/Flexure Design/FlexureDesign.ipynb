{
  "cells": [
    {
      "cell_type": "markdown",
      "id": "94b6049d",
      "metadata": {},
      "source": [
        "---\n",
        "title: Flexural Design Example\n",
        "execute:\n",
        "  echo: false\n",
        "  cache: true\n",
        "format:\n",
        "  html:\n",
        "    html-math-method: katex\n",
        "    embed-resources: true\n",
        "    self-contained-math: true\n",
        "    toc: true\n",
        "  docx:\n",
        "    df-print: tibble\n",
        "  pdf:\n",
        "    toc: true\n",
        "    include-in-header:\n",
        "      text: |\n",
        "        \\usepackage{amssymb}\n",
        "        \\usepackage{xcolor}\n",
        "        \\usepackage{fancyhdr}\n",
        "        \\pagestyle{fancy}\n",
        "        \\fancyhead[L]{Project: Calc Process Example \\\\ Task: Flexural Design}\n",
        "        \\fancyhead[R]{Calculated by: CAM Date: 04/30/2024 \\\\Checked by:     Date:   /  /    }\n",
        "---"
      ]
    },
    {
      "cell_type": "markdown",
      "id": "b6d70e62",
      "metadata": {},
      "source": [
        "{{< pagebreak >}}\n"
      ]
    },
    {
      "cell_type": "code",
      "execution_count": 2,
      "id": "8c075dec",
      "metadata": {},
      "outputs": [],
      "source": [
        "using Handcalcs, StructuralUnits, Markdown, Format, LaTeXStrings"
      ]
    },
    {
      "cell_type": "code",
      "execution_count": 3,
      "id": "04ea7a7c",
      "metadata": {},
      "outputs": [],
      "source": [
        "set_default(fmt = x->format(round(x, digits=2)));"
      ]
    },
    {
      "cell_type": "markdown",
      "id": "b6e26014",
      "metadata": {},
      "source": [
        "# Example Problem\n",
        "Determine the LRFD flexural design strength for a W10x12 beam with an unbraced length of 2 ft.\n",
        "\n",
        "## 1. Determine if Section is Compact\n"
      ]
    },
    {
      "cell_type": "code",
      "execution_count": 5,
      "id": "65d25b36",
      "metadata": {},
      "outputs": [
        {
          "data": {
            "text/latex": [
              "$\\begin{aligned}\n",
              "\\lambda_{flange} &= 9.43\\;\\text{  }(\\text{AISC Table 1-1})\n",
              "\\\\[10pt]\n",
              "\\lambda_{web} &= 46.6\\;\\text{  }(\\text{AISC Table 1-1})\n",
              "\\end{aligned}$"
            ],
            "text/plain": [
              "L\"$\\begin{aligned}\n",
              "\\lambda_{flange} &= 9.43\\;\\text{  }(\\text{AISC Table 1-1})\n",
              "\\\\[10pt]\n",
              "\\lambda_{web} &= 46.6\\;\\text{  }(\\text{AISC Table 1-1})\n",
              "\\end{aligned}$\""
            ]
          },
          "metadata": {},
          "output_type": "display_data"
        }
      ],
      "source": [
        "@handcalcs begin\n",
        "    λ_flange = 9.43; \"AISC Table 1-1\";\n",
        "    λ_web = 46.6; \"AISC Table 1-1\";\n",
        "end"
      ]
    },
    {
      "cell_type": "markdown",
      "id": "7755774f",
      "metadata": {},
      "source": [
        "## 2. Determine the limiting ratios (AISC Table B4.1b)\n",
        "### Check Flange\n"
      ]
    },
    {
      "cell_type": "code",
      "execution_count": 4,
      "id": "8dae9c50",
      "metadata": {},
      "outputs": [
        {
          "data": {
            "text/latex": [
              "$\\begin{aligned}\n",
              "E &= 29000\\;\\mathrm{ksi}\n",
              "\\\\[10pt]\n",
              "F_{y} &= 50\\;\\mathrm{ksi}\n",
              "\\\\[10pt]\n",
              "\\lambda_{pf} &= 0.38 \\cdot \\sqrt{\\frac{E}{F_{y}}} = 0.38 \\cdot \\sqrt{\\frac{29000\\;\\mathrm{ksi}}{50\\;\\mathrm{ksi}}} = 9.15\\;\\text{  }(\\text{Case 10})\n",
              "\\\\[10pt]\n",
              "\\lambda_{r} &= 1 \\cdot \\sqrt{\\frac{E}{F_{y}}} = 1 \\cdot \\sqrt{\\frac{29000\\;\\mathrm{ksi}}{50\\;\\mathrm{ksi}}} = 24.08\n",
              "\\end{aligned}$"
            ],
            "text/plain": [
              "L\"$\\begin{aligned}\n",
              "E &= 29000\\;\\mathrm{ksi}\n",
              "\\\\[10pt]\n",
              "F_{y} &= 50\\;\\mathrm{ksi}\n",
              "\\\\[10pt]\n",
              "\\lambda_{pf} &= 0.38 \\cdot \\sqrt{\\frac{E}{F_{y}}} = 0.38 \\cdot \\sqrt{\\frac{29000\\;\\mathrm{ksi}}{50\\;\\mathrm{ksi}}} = 9.15\\;\\text{  }(\\text{Case 10})\n",
              "\\\\[10pt]\n",
              "\\lambda_{r} &= 1 \\cdot \\sqrt{\\frac{E}{F_{y}}} = 1 \\cdot \\sqrt{\\frac{29000\\;\\mathrm{ksi}}{50\\;\\mathrm{ksi}}} = 24.08\n",
              "\\end{aligned}$\""
            ]
          },
          "metadata": {},
          "output_type": "display_data"
        }
      ],
      "source": [
        "E = 29000ksi\n",
        "F_y = 50ksi\n",
        "@handcalcs begin\n",
        "    E\n",
        "    F_y\n",
        "    λ_pf = 0.38*√(E/F_y); \"Case 10\";\n",
        "    λ_r = 1.0*√(E/F_y)\n",
        "    # check = λ_pf < λ_flange < λ_r; \"Noncompact Flange\"\n",
        "end"
      ]
    },
    {
      "cell_type": "code",
      "execution_count": 5,
      "id": "b61ff368",
      "metadata": {},
      "outputs": [
        {
          "data": {
            "text/latex": [
              "$\\\\[20pt] \\left( \\lambda_{pf} < \\lambda_{flange} < \\lambda_{r} \\right) = \\left( 9.15 < 9.43 < 24.08 \\right) = 1 \\;\\;\\; \\therefore  \\text{{\\color{blue} \\ Noncompact Flange}}$"
            ],
            "text/plain": [
              "L\"$\\\\[20pt] \\left( \\lambda_{pf} < \\lambda_{flange} < \\lambda_{r} \\right) = \\left( 9.15 < 9.43 < 24.08 \\right) = 1 \\;\\;\\; \\therefore  \\text{{\\color{blue} \\ Noncompact Flange}}$\""
            ]
          },
          "metadata": {},
          "output_type": "display_data"
        }
      ],
      "source": [
        "latex = @handcalc λ_pf < λ_flange < λ_r\n",
        "latex = latex[2:end-1]\n",
        "L\"\\\\[20pt] %$latex \\;\\;\\; \\therefore  \\text{{\\color{blue} \\ Noncompact Flange}}\""
      ]
    },
    {
      "cell_type": "markdown",
      "id": "6ad617de",
      "metadata": {},
      "source": [
        "### Check Web\n"
      ]
    },
    {
      "cell_type": "code",
      "execution_count": 6,
      "id": "b06cdc3a",
      "metadata": {},
      "outputs": [
        {
          "data": {
            "text/latex": [
              "$\\begin{aligned}\n",
              "\\lambda_{pw} &= 3.76 \\cdot \\sqrt{\\frac{E}{F_{y}}} = 3.76 \\cdot \\sqrt{\\frac{29000\\;\\mathrm{ksi}}{50\\;\\mathrm{ksi}}} = 90.55\\;\\text{  }(\\text{Case 10})\n",
              "\\end{aligned}$"
            ],
            "text/plain": [
              "L\"$\\begin{aligned}\n",
              "\\lambda_{pw} &= 3.76 \\cdot \\sqrt{\\frac{E}{F_{y}}} = 3.76 \\cdot \\sqrt{\\frac{29000\\;\\mathrm{ksi}}{50\\;\\mathrm{ksi}}} = 90.55\\;\\text{  }(\\text{Case 10})\n",
              "\\end{aligned}$\""
            ]
          },
          "metadata": {},
          "output_type": "display_data"
        }
      ],
      "source": [
        "@handcalcs begin\n",
        "    λ_pw = 3.76*√(E/F_y); \"Case 10\";\n",
        "    # check = λ_web < λ_pw; \"Compact Web\"\n",
        "end"
      ]
    },
    {
      "cell_type": "code",
      "execution_count": 7,
      "id": "67423d3a",
      "metadata": {},
      "outputs": [
        {
          "data": {
            "text/latex": [
              "$\\\\[20pt] \\left( \\lambda_{web} < \\lambda_{pw} \\right) = \\left( 46.6 < 90.55 \\right) = 1 \\;\\;\\; \\therefore  \\text{{\\color{blue} \\ Compact Web}}$"
            ],
            "text/plain": [
              "L\"$\\\\[20pt] \\left( \\lambda_{web} < \\lambda_{pw} \\right) = \\left( 46.6 < 90.55 \\right) = 1 \\;\\;\\; \\therefore  \\text{{\\color{blue} \\ Compact Web}}$\""
            ]
          },
          "metadata": {},
          "output_type": "display_data"
        }
      ],
      "source": [
        "latex = @handcalc λ_web < λ_pw\n",
        "latex = latex[2:end-1]\n",
        "L\"\\\\[20pt] %$latex \\;\\;\\; \\therefore  \\text{{\\color{blue} \\ Compact Web}}\""
      ]
    },
    {
      "cell_type": "markdown",
      "id": "73932710",
      "metadata": {},
      "source": [
        "## 3. Calculate the LB strength with AISC Spec F3\n"
      ]
    },
    {
      "cell_type": "code",
      "execution_count": 8,
      "id": "df0303d0",
      "metadata": {},
      "outputs": [
        {
          "data": {
            "text/latex": [
              "$\\begin{aligned}\n",
              "S_{x} &= 10.9\\;\\mathrm{inch}^{3}\\;\\text{  }(\\text{AISC Table 1-1})\n",
              "\\\\[10pt]\n",
              "Z_{x} &= 12.6\\;\\mathrm{inch}^{3}\\;\\text{  }(\\text{AISC Table 1-1})\n",
              "\\end{aligned}$"
            ],
            "text/plain": [
              "L\"$\\begin{aligned}\n",
              "S_{x} &= 10.9\\;\\mathrm{inch}^{3}\\;\\text{  }(\\text{AISC Table 1-1})\n",
              "\\\\[10pt]\n",
              "Z_{x} &= 12.6\\;\\mathrm{inch}^{3}\\;\\text{  }(\\text{AISC Table 1-1})\n",
              "\\end{aligned}$\""
            ]
          },
          "metadata": {},
          "output_type": "display_data"
        }
      ],
      "source": [
        "S_x = 10.9inch^3\n",
        "Z_x = 12.6inch^3\n",
        "@handcalcs begin\n",
        "    S_x; \"AISC Table 1-1\";\n",
        "    Z_x; \"AISC Table 1-1\";\n",
        "end"
      ]
    },
    {
      "cell_type": "code",
      "execution_count": 9,
      "id": "29e93b43",
      "metadata": {},
      "outputs": [
        {
          "data": {
            "text/latex": [
              "$\\begin{aligned}\n",
              "M_{p} &= F_{y} \\cdot Z_{x} = 50\\;\\mathrm{ksi} \\cdot 12.6\\;\\mathrm{inch}^{3} = 52.5\\;\\mathrm{ft}\\,\\mathrm{kip}\n",
              "\\end{aligned}$"
            ],
            "text/plain": [
              "L\"$\\begin{aligned}\n",
              "M_{p} &= F_{y} \\cdot Z_{x} = 50\\;\\mathrm{ksi} \\cdot 12.6\\;\\mathrm{inch}^{3} = 52.5\\;\\mathrm{ft}\\,\\mathrm{kip}\n",
              "\\end{aligned}$\""
            ]
          },
          "metadata": {},
          "output_type": "display_data"
        }
      ],
      "source": [
        "@handcalcs begin\n",
        "    M_p = F_y * Z_x\n",
        "end post = kip*ft"
      ]
    },
    {
      "cell_type": "code",
      "execution_count": 10,
      "id": "1222c51a",
      "metadata": {},
      "outputs": [
        {
          "data": {
            "text/latex": [
              "$\\begin{aligned}\n",
              "M_{nLB} &= M_{p} - \\left( M_{p} - 0.7 \\cdot F_{y} \\cdot S_{x} \\right) \\cdot \\frac{\\lambda_{flange} - \\lambda_{pf}}{\\lambda_{r} - \\lambda_{pf}}\n",
              "\\\\[10pt]\n",
              "&= 52.5\\;\\mathrm{ft}\\,\\mathrm{kip} - \\left( 52.5\\;\\mathrm{ft}\\,\\mathrm{kip} - 0.7 \\cdot 50\\;\\mathrm{ksi} \\cdot 10.9\\;\\mathrm{inch}^{3} \\right) \\cdot \\frac{9.43 - 9.15}{24.08 - 9.15}\n",
              "\\\\[10pt]\n",
              "&= 52.11\\;\\mathrm{ft}\\,\\mathrm{kip}\n",
              "\\end{aligned}$"
            ],
            "text/plain": [
              "L\"$\\begin{aligned}\n",
              "M_{nLB} &= M_{p} - \\left( M_{p} - 0.7 \\cdot F_{y} \\cdot S_{x} \\right) \\cdot \\frac{\\lambda_{flange} - \\lambda_{pf}}{\\lambda_{r} - \\lambda_{pf}}\n",
              "\\\\[10pt]\n",
              "&= 52.5\\;\\mathrm{ft}\\,\\mathrm{kip} - \\left( 52.5\\;\\mathrm{ft}\\,\\mathrm{kip} - 0.7 \\cdot 50\\;\\mathrm{ksi} \\cdot 10.9\\;\\mathrm{inch}^{3} \\right) \\cdot \\frac{9.43 - 9.15}{24.08 - 9.15}\n",
              "\\\\[10pt]\n",
              "&= 52.11\\;\\mathrm{ft}\\,\\mathrm{kip}\n",
              "\\end{aligned}$\""
            ]
          },
          "metadata": {},
          "output_type": "display_data"
        }
      ],
      "source": [
        "M_p = M_p |> kip*ft\n",
        "@handcalcs begin\n",
        "    M_nLB = (M_p - (M_p - 0.7*F_y*S_x)*((λ_flange-λ_pf)/(λ_r-λ_pf)))\n",
        "end post = kip*ft len=:long"
      ]
    },
    {
      "cell_type": "markdown",
      "id": "17015e68",
      "metadata": {},
      "source": [
        "## 4. Calculate LTB strength with AISC spec F2.2\n"
      ]
    },
    {
      "cell_type": "code",
      "execution_count": 11,
      "id": "9d6e0485",
      "metadata": {},
      "outputs": [
        {
          "data": {
            "text/latex": [
              "$\\begin{aligned}\n",
              "L_{b} &= 2\\;\\mathrm{ft}\n",
              "\\\\[10pt]\n",
              "r_{y} &= 0.78\\;\\mathrm{inch}\n",
              "\\end{aligned}$"
            ],
            "text/plain": [
              "L\"$\\begin{aligned}\n",
              "L_{b} &= 2\\;\\mathrm{ft}\n",
              "\\\\[10pt]\n",
              "r_{y} &= 0.78\\;\\mathrm{inch}\n",
              "\\end{aligned}$\""
            ]
          },
          "metadata": {},
          "output_type": "display_data"
        }
      ],
      "source": [
        "L_b = 2ft\n",
        "r_y = 0.785inch \n",
        "@handcalcs begin\n",
        "    L_b\n",
        "    r_y\n",
        "end"
      ]
    },
    {
      "cell_type": "code",
      "execution_count": 12,
      "id": "eeb95c0c",
      "metadata": {},
      "outputs": [
        {
          "data": {
            "text/latex": [
              "$\\begin{aligned}\n",
              "L_{p} &= 1.76 \\cdot r_{y} \\cdot \\sqrt{\\frac{E}{F_{y}}} = 1.76 \\cdot 0.78\\;\\mathrm{inch} \\cdot \\sqrt{\\frac{29000\\;\\mathrm{ksi}}{50\\;\\mathrm{ksi}}} = 2.77\\;\\mathrm{ft}\n",
              "\\end{aligned}$"
            ],
            "text/plain": [
              "L\"$\\begin{aligned}\n",
              "L_{p} &= 1.76 \\cdot r_{y} \\cdot \\sqrt{\\frac{E}{F_{y}}} = 1.76 \\cdot 0.78\\;\\mathrm{inch} \\cdot \\sqrt{\\frac{29000\\;\\mathrm{ksi}}{50\\;\\mathrm{ksi}}} = 2.77\\;\\mathrm{ft}\n",
              "\\end{aligned}$\""
            ]
          },
          "metadata": {},
          "output_type": "display_data"
        }
      ],
      "source": [
        "@handcalcs begin\n",
        "    L_p = 1.76*r_y*√(E/F_y)\n",
        "end post = ft"
      ]
    },
    {
      "cell_type": "code",
      "execution_count": 13,
      "id": "022ff86a",
      "metadata": {},
      "outputs": [
        {
          "data": {
            "text/latex": [
              "$\\\\[20pt] \\left( L_{p} > L_{b} \\right) = \\left( 2.77\\;\\mathrm{ft} > 2\\;\\mathrm{ft} \\right) = 1 \\;\\;\\; \\therefore  \\text{{\\color{blue} \\ Full Plastic Behavior}}$"
            ],
            "text/plain": [
              "L\"$\\\\[20pt] \\left( L_{p} > L_{b} \\right) = \\left( 2.77\\;\\mathrm{ft} > 2\\;\\mathrm{ft} \\right) = 1 \\;\\;\\; \\therefore  \\text{{\\color{blue} \\ Full Plastic Behavior}}$\""
            ]
          },
          "metadata": {},
          "output_type": "display_data"
        }
      ],
      "source": [
        "L_p = L_p |> ft\n",
        "latex = @handcalc L_p > L_b\n",
        "latex = latex[2:end-1]\n",
        "L\"\\\\[20pt] %$latex \\;\\;\\; \\therefore  \\text{{\\color{blue} \\ Full Plastic Behavior}}\""
      ]
    },
    {
      "cell_type": "code",
      "execution_count": 14,
      "id": "b18a923e",
      "metadata": {},
      "outputs": [
        {
          "data": {
            "text/latex": [
              "$\\begin{aligned}\n",
              "M_{nLTB} &= M_{p} = 52.5\\;\\mathrm{ft}\\,\\mathrm{kip}\n",
              "\\end{aligned}$"
            ],
            "text/plain": [
              "L\"$\\begin{aligned}\n",
              "M_{nLTB} &= M_{p} = 52.5\\;\\mathrm{ft}\\,\\mathrm{kip}\n",
              "\\end{aligned}$\""
            ]
          },
          "metadata": {},
          "output_type": "display_data"
        }
      ],
      "source": [
        "@handcalcs begin\n",
        "    M_nLTB = M_p\n",
        "end post=kip*ft"
      ]
    },
    {
      "cell_type": "markdown",
      "id": "126e0de9",
      "metadata": {},
      "source": [
        "## 5. Design Strength\n"
      ]
    },
    {
      "cell_type": "code",
      "execution_count": 15,
      "id": "eb24a4ac",
      "metadata": {},
      "outputs": [
        {
          "data": {
            "text/latex": [
              "$\\begin{aligned}\n",
              "M_{n} &= \\mathrm{min}\\left( M_{nLTB}, M_{nLB} \\right) = \\mathrm{min}\\left( 52.5\\;\\mathrm{ft}\\,\\mathrm{kip}, 52.11\\;\\mathrm{ft}\\,\\mathrm{kip} \\right) = 52.11\\;\\mathrm{ft}\\,\\mathrm{kip}\n",
              "\\\\[10pt]\n",
              "\\phi_{b} &= 0.9\n",
              "\\\\[10pt]\n",
              "{\\phi}M_{n} &= \\phi_{b} \\cdot M_{n} = 0.9 \\cdot 52.11\\;\\mathrm{ft}\\,\\mathrm{kip} = 46.9\\;\\mathrm{ft}\\,\\mathrm{kip}\n",
              "\\end{aligned}$"
            ],
            "text/plain": [
              "L\"$\\begin{aligned}\n",
              "M_{n} &= \\mathrm{min}\\left( M_{nLTB}, M_{nLB} \\right) = \\mathrm{min}\\left( 52.5\\;\\mathrm{ft}\\,\\mathrm{kip}, 52.11\\;\\mathrm{ft}\\,\\mathrm{kip} \\right) = 52.11\\;\\mathrm{ft}\\,\\mathrm{kip}\n",
              "\\\\[10pt]\n",
              "\\phi_{b} &= 0.9\n",
              "\\\\[10pt]\n",
              "{\\phi}M_{n} &= \\phi_{b} \\cdot M_{n} = 0.9 \\cdot 52.11\\;\\mathrm{ft}\\,\\mathrm{kip} = 46.9\\;\\mathrm{ft}\\,\\mathrm{kip}\n",
              "\\end{aligned}$\""
            ]
          },
          "metadata": {},
          "output_type": "display_data"
        }
      ],
      "source": [
        "M_nLTB = M_nLTB |> kip*ft\n",
        "M_nLB = M_nLB |> kip*ft\n",
        "@handcalcs begin \n",
        "    M_n = min(M_nLTB, M_nLB) \n",
        "    ϕ_b = 0.9\n",
        "    ϕM_n = ϕ_b*M_n\n",
        "end not_funcs=min"
      ]
    }
  ],
  "metadata": {
    "kernelspec": {
      "display_name": "Julia 1.10.2",
      "language": "julia",
      "name": "julia-1.10"
    },
    "language_info": {
      "file_extension": ".jl",
      "mimetype": "application/julia",
      "name": "julia",
      "version": "1.10.2"
    }
  },
  "nbformat": 4,
  "nbformat_minor": 5
}
