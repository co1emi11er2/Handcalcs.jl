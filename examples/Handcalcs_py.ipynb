{
 "cells": [
  {
   "cell_type": "code",
   "execution_count": 1,
   "id": "3f72a2f8",
   "metadata": {
    "hide_input": true
   },
   "outputs": [],
   "source": [
    "import handcalcs.render\n",
    "from handcalcs.decorator import handcalc\n",
    "from math import sqrt\n",
    "import forallpeople\n",
    "forallpeople.environment(\"structural\", top_level = True) "
   ]
  },
  {
   "cell_type": "markdown",
   "id": "2fc446e3",
   "metadata": {},
   "source": [
    "# Handcalc Demo"
   ]
  },
  {
   "cell_type": "code",
   "execution_count": 2,
   "id": "4518b6af",
   "metadata": {
    "hide_input": false
   },
   "outputs": [
    {
     "data": {
      "text/latex": [
       "\\[\n",
       "\\begin{aligned}\n",
       "a &= 2.000\\ \\mathrm{inch} \\; \n",
       " &b &= -5.000\\ \\mathrm{inch} \\; \n",
       " &c &= 2.000\\ \\mathrm{inch} \\; \n",
       "\\\\[10pt]\n",
       " h &= 10.000\\ \\mathrm{inch} \\;\n",
       "\\end{aligned}\n",
       "\\]"
      ],
      "text/plain": [
       "<IPython.core.display.Latex object>"
      ]
     },
     "metadata": {},
     "output_type": "display_data"
    }
   ],
   "source": [
    "%%render params\n",
    "a = 2*inch\n",
    "b = -5*inch\n",
    "c = 2*inch\n",
    "h = 10*inch"
   ]
  },
  {
   "cell_type": "markdown",
   "id": "4104deca",
   "metadata": {},
   "source": [
    "## Latex Formula"
   ]
  },
  {
   "cell_type": "code",
   "execution_count": 3,
   "id": "18e66bf1",
   "metadata": {
    "hide_input": true
   },
   "outputs": [
    {
     "data": {
      "text/latex": [
       "\\[\n",
       "\\begin{aligned}\n",
       "x &= \\frac{ \\left( - b \\right) + \\sqrt { \\left( b \\right) ^{ 2 } - 4 \\cdot a \\cdot c } }{ 2 \\cdot a }  = \\frac{ \\left( - -5.000\\ \\mathrm{inch} \\right) + \\sqrt { \\left( -5.000\\ \\mathrm{inch} \\right) ^{ 2 } - 4 \\cdot 2.000\\ \\mathrm{inch} \\cdot 2.000\\ \\mathrm{inch} } }{ 2 \\cdot 2.000\\ \\mathrm{inch} } &= 2.000  \n",
       "\\end{aligned}\n",
       "\\]"
      ],
      "text/plain": [
       "<IPython.core.display.Latex object>"
      ]
     },
     "metadata": {},
     "output_type": "display_data"
    }
   ],
   "source": [
    "%%render\n",
    "x = (-b + sqrt(b**2 - 4*a*c))/(2*a)"
   ]
  },
  {
   "cell_type": "code",
   "execution_count": 4,
   "id": "95b84d54",
   "metadata": {
    "hide_input": true,
    "scrolled": true
   },
   "outputs": [
    {
     "data": {
      "text/latex": [
       "\\[\n",
       "\\begin{aligned}\n",
       "d &= \\left( a + b \\right) \\cdot c  = \\left( 2.000\\ \\mathrm{inch} + -5.000\\ \\mathrm{inch} \\right) \\cdot 2.000\\ \\mathrm{inch} &= -6.000\\ \\mathrm{inch}^{2}  \n",
       "\\end{aligned}\n",
       "\\]"
      ],
      "text/plain": [
       "<IPython.core.display.Latex object>"
      ]
     },
     "metadata": {},
     "output_type": "display_data"
    }
   ],
   "source": [
    "%%render\n",
    "d = (a + b) * c"
   ]
  },
  {
   "cell_type": "code",
   "execution_count": 5,
   "id": "e992709f",
   "metadata": {
    "hide_input": true
   },
   "outputs": [],
   "source": [
    "@handcalc(jupyter_display=True)\n",
    "def calc_Ix(b, h):\n",
    "    I_x = b*h**3/12\n",
    "    return I_x\n",
    "\n",
    "@handcalc(jupyter_display=True)\n",
    "def calc_Iy(h, b):\n",
    "    I_y = h*b*3/12\n",
    "    return I_y"
   ]
  },
  {
   "cell_type": "code",
   "execution_count": 6,
   "id": "95bb638f",
   "metadata": {
    "hide_input": true
   },
   "outputs": [
    {
     "data": {
      "text/latex": [
       "\\[\n",
       "\\begin{aligned}\n",
       "I_{x} &= b \\cdot \\frac{ \\left( h \\right) ^{ 3 } }{ 12 }  = -5.000\\ \\mathrm{inch} \\cdot \\frac{ \\left( 10.000\\ \\mathrm{inch} \\right) ^{ 3 } }{ 12 } &= -416.667\\ \\mathrm{inch}^{4}  \n",
       "\\end{aligned}\n",
       "\\]"
      ],
      "text/plain": [
       "<IPython.core.display.Latex object>"
      ]
     },
     "metadata": {},
     "output_type": "display_data"
    },
    {
     "data": {
      "text/latex": [
       "\\[\n",
       "\\begin{aligned}\n",
       "I_{y} &= h \\cdot b \\cdot \\frac{ 3 }{ 12 }  = 10.000\\ \\mathrm{inch} \\cdot -5.000\\ \\mathrm{inch} \\cdot \\frac{ 3 }{ 12 } &= -12.500\\ \\mathrm{inch}^{2}  \n",
       "\\end{aligned}\n",
       "\\]"
      ],
      "text/plain": [
       "<IPython.core.display.Latex object>"
      ]
     },
     "metadata": {},
     "output_type": "display_data"
    }
   ],
   "source": [
    "I_x = calc_Ix(b, h)\n",
    "I_y = calc_Iy(h, b)"
   ]
  },
  {
   "cell_type": "code",
   "execution_count": 7,
   "id": "54553f7f",
   "metadata": {},
   "outputs": [],
   "source": [
    "def calc_Is(b, h):\n",
    "    I_x = calc_Ix(b, h)\n",
    "    I_y = calc_Iy(h, b)\n",
    "    return I_x, I_y"
   ]
  },
  {
   "cell_type": "code",
   "execution_count": 8,
   "id": "2d271ffb",
   "metadata": {},
   "outputs": [
    {
     "data": {
      "text/latex": [
       "\\[\n",
       "\\begin{aligned}\n",
       "I_{x} &= b \\cdot \\frac{ \\left( h \\right) ^{ 3 } }{ 12 }  = -5.000\\ \\mathrm{inch} \\cdot \\frac{ \\left( 10.000\\ \\mathrm{inch} \\right) ^{ 3 } }{ 12 } &= -416.667\\ \\mathrm{inch}^{4}  \n",
       "\\end{aligned}\n",
       "\\]"
      ],
      "text/plain": [
       "<IPython.core.display.Latex object>"
      ]
     },
     "metadata": {},
     "output_type": "display_data"
    },
    {
     "data": {
      "text/latex": [
       "\\[\n",
       "\\begin{aligned}\n",
       "I_{y} &= h \\cdot b \\cdot \\frac{ 3 }{ 12 }  = 10.000\\ \\mathrm{inch} \\cdot -5.000\\ \\mathrm{inch} \\cdot \\frac{ 3 }{ 12 } &= -12.500\\ \\mathrm{inch}^{2}  \n",
       "\\end{aligned}\n",
       "\\]"
      ],
      "text/plain": [
       "<IPython.core.display.Latex object>"
      ]
     },
     "metadata": {},
     "output_type": "display_data"
    }
   ],
   "source": [
    "I_x, I_y = calc_Is(b, h)"
   ]
  }
 ],
 "metadata": {
  "kernelspec": {
   "display_name": "pfse",
   "language": "python",
   "name": "python3"
  },
  "language_info": {
   "codemirror_mode": {
    "name": "ipython",
    "version": 3
   },
   "file_extension": ".py",
   "mimetype": "text/x-python",
   "name": "python",
   "nbconvert_exporter": "python",
   "pygments_lexer": "ipython3",
   "version": "3.10.13"
  }
 },
 "nbformat": 4,
 "nbformat_minor": 5
}
