{
 "cells": [
  {
   "cell_type": "markdown",
   "id": "663b02fd-d873-4d42-8026-62742e54765c",
   "metadata": {},
   "source": [
    "---\n",
    "title: \"My Document\"\n",
    "execute:\n",
    "  echo: false\n",
    "  cache: true\n",
    "format:\n",
    "  html:\n",
    "    html-math-method: katex\n",
    "    embed-resources: true\n",
    "    self-contained-math: true\n",
    "    toc: true\n",
    "  docx:\n",
    "    df-print: tibble\n",
    "  pdf:\n",
    "    toc: true\n",
    "---"
   ]
  },
  {
   "cell_type": "markdown",
   "id": "d035b47e-1dfd-4e8e-a2c0-650fb3804bf6",
   "metadata": {},
   "source": [
    "# Weave Test"
   ]
  },
  {
   "cell_type": "code",
   "execution_count": 1,
   "id": "a4a67a02-024b-4eb3-9848-a5990783dd62",
   "metadata": {},
   "outputs": [],
   "source": [
    "using Handcalcs, BridgeCalcsUS\n",
    "using Latexify, LaTeXStrings\n",
    "using Unitful, UnitfulLatexify\n",
    "using Format"
   ]
  },
  {
   "cell_type": "code",
   "execution_count": 2,
   "id": "c6e5e48f",
   "metadata": {},
   "outputs": [],
   "source": [
    "import TestHandcalcFunctions: calc_Ix, calc_Iy"
   ]
  },
  {
   "cell_type": "code",
   "execution_count": 7,
   "id": "b3609683-6db8-41f5-a74b-92ac170e739f",
   "metadata": {},
   "outputs": [],
   "source": [
    "const inch = u\"inch\"\n",
    "const ft = u\"ft\";"
   ]
  },
  {
   "cell_type": "code",
   "execution_count": 4,
   "id": "b3bf7314",
   "metadata": {},
   "outputs": [],
   "source": [
    "set_default(fmt = x->format(round(x, digits=4)));"
   ]
  },
  {
   "cell_type": "markdown",
   "id": "18dbc744-817e-4178-813d-59b487dcb233",
   "metadata": {},
   "source": [
    "## Rectangle Properties"
   ]
  },
  {
   "cell_type": "code",
   "execution_count": 7,
   "id": "1e93c8fa-7501-47c5-9dbd-953104822764",
   "metadata": {},
   "outputs": [
    {
     "data": {
      "text/latex": [
       "$\\begin{aligned}\n",
       "b &= 5\\;\\text{  }(\\text{base})\n",
       "\\\\[10pt]\n",
       "h &= 12\\;\\text{  }(\\text{height})\n",
       "\\end{aligned}$"
      ],
      "text/plain": [
       "L\"$\\begin{aligned}\n",
       "b &= 5\\;\\text{  }(\\text{base})\n",
       "\\\\[10pt]\n",
       "h &= 12\\;\\text{  }(\\text{height})\n",
       "\\end{aligned}$\""
      ]
     },
     "metadata": {},
     "output_type": "display_data"
    }
   ],
   "source": [
    "@handcalcs begin\n",
    "    b = 5; \"base\";\n",
    "    h = 12; \"height\";\n",
    "end"
   ]
  },
  {
   "cell_type": "markdown",
   "id": "53241f31-7f40-434f-9440-c49060495e5a",
   "metadata": {},
   "source": [
    "### Calculate Ix"
   ]
  },
  {
   "cell_type": "code",
   "execution_count": 5,
   "id": "d48d8b86-a40c-423b-9925-dbdece39671b",
   "metadata": {},
   "outputs": [
    {
     "data": {
      "text/latex": [
       "$\\begin{aligned}\n",
       "I_{x} &= \\frac{b \\cdot h^{3}}{12} = \\frac{5 \\cdot 12^{3}}{12} = 720.0\n",
       "\\end{aligned}$"
      ],
      "text/plain": [
       "L\"$\\begin{aligned}\n",
       "I_{x} &= \\frac{b \\cdot h^{3}}{12} = \\frac{5 \\cdot 12^{3}}{12} = 720.0\n",
       "\\end{aligned}$\""
      ]
     },
     "metadata": {},
     "output_type": "display_data"
    }
   ],
   "source": [
    "@handcalcs begin\n",
    "    I_x = b*h^3/12\n",
    "end"
   ]
  },
  {
   "cell_type": "markdown",
   "id": "21f163cc-f3c7-4b99-9108-38eeebfb4f01",
   "metadata": {},
   "source": [
    "### Calculate Area"
   ]
  },
  {
   "cell_type": "code",
   "execution_count": 6,
   "id": "c1780a43-f694-45b6-ab9f-8e20607fcc49",
   "metadata": {},
   "outputs": [
    {
     "data": {
      "text/latex": [
       "$\\begin{aligned}\n",
       "area &= b \\cdot h = 5 \\cdot 12 = 60\n",
       "\\end{aligned}$"
      ],
      "text/plain": [
       "L\"$\\begin{aligned}\n",
       "area &= b \\cdot h = 5 \\cdot 12 = 60\n",
       "\\end{aligned}$\""
      ]
     },
     "metadata": {},
     "output_type": "display_data"
    }
   ],
   "source": [
    "@handcalcs begin\n",
    "    area = b*h\n",
    "end"
   ]
  },
  {
   "cell_type": "code",
   "execution_count": 5,
   "id": "e6d94e6f",
   "metadata": {},
   "outputs": [
    {
     "data": {
      "text/latex": [
       "$\\begin{aligned}\n",
       "P_{e} &= \\frac{\\pi^{2} \\cdot E}{\\left( \\frac{K \\cdot l}{r_{s}} \\right)^{2}} \\cdot A_{g} = \\frac{3.1416^{2} \\cdot 29000}{\\left( \\frac{1 \\cdot 408}{2.12} \\right)^{2}} \\cdot 19.7 = 152.2353\\;\\text{  }(\\text{AASHTO 6.9.4.1.2-1})\n",
       "\\end{aligned}$"
      ],
      "text/plain": [
       "L\"$\\begin{aligned}\n",
       "P_{e} &= \\frac{\\pi^{2} \\cdot E}{\\left( \\frac{K \\cdot l}{r_{s}} \\right)^{2}} \\cdot A_{g} = \\frac{3.1416^{2} \\cdot 29000}{\\left( \\frac{1 \\cdot 408}{2.12} \\right)^{2}} \\cdot 19.7 = 152.2353\\;\\text{  }(\\text{AASHTO 6.9.4.1.2-1})\n",
       "\\end{aligned}$\""
      ]
     },
     "metadata": {},
     "output_type": "display_data"
    }
   ],
   "source": [
    "@handfunc P_e = A6_9_4_1_2d1(29000, 19.7, 1.0, 408, 2.12) "
   ]
  },
  {
   "cell_type": "markdown",
   "id": "07b35feb-77df-4ec0-b6da-7cedba19888b",
   "metadata": {},
   "source": [
    "## Example Plot"
   ]
  },
  {
   "cell_type": "code",
   "execution_count": 7,
   "id": "c396e5ea",
   "metadata": {},
   "outputs": [],
   "source": [
    "using Plots"
   ]
  },
  {
   "cell_type": "code",
   "execution_count": 8,
   "id": "e5de1657-fe9c-455e-afa1-d55321da581c",
   "metadata": {},
   "outputs": [
    {
     "data": {
      "image/png": "[encoded data removed]",
      "image/svg+xml": [
       "<?xml version=\"1.0\" encoding=\"utf-8\"?>\n",
       "<svg xmlns=\"http://www.w3.org/2000/svg\" xmlns:xlink=\"http://www.w3.org/1999/xlink\" width=\"600\" height=\"400\" viewBox=\"0 0 2400 1600\">\n",
       "<defs>\n",
       "  <clipPath id=\"clip320\">\n",
       "    <rect x=\"0\" y=\"0\" width=\"2400\" height=\"1600\"/>\n",
       "  </clipPath>\n",
       "</defs>\n",
       "<path clip-path=\"url(#clip320)\" d=\"M0 1600 L2400 1600 L2400 0 L0 0  Z\" fill=\"#ffffff\" fill-rule=\"evenodd\" fill-opacity=\"1\"/>\n",
       "<defs>\n",
       "  <clipPath id=\"clip321\">\n",
       "    <rect x=\"480\" y=\"0\" width=\"1681\" height=\"1600\"/>\n",
       "  </clipPath>\n",
       "</defs>\n",
       "<path clip-path=\"url(#clip320)\" d=\"M140.696 1486.45 L2352.76 1486.45 L2352.76 47.2441 L140.696 47.2441  Z\" fill=\"#ffffff\" fill-rule=\"evenodd\" fill-opacity=\"1\"/>\n",
       "<defs>\n",
       "  <clipPath id=\"clip322\">\n",
       "    <rect x=\"140\" y=\"47\" width=\"2213\" height=\"1440\"/>\n",
       "  </clipPath>\n",
       "</defs>\n",
       "<polyline clip-path=\"url(#clip322)\" style=\"stroke:#000000; stroke-linecap:round; stroke-linejoin:round; stroke-width:2; stroke-opacity:0.1; fill:none\" points=\"411.986,1486.45 411.986,47.2441 \"/>\n",
       "<polyline clip-path=\"url(#clip322)\" style=\"stroke:#000000; stroke-linecap:round; stroke-linejoin:round; stroke-width:2; stroke-opacity:0.1; fill:none\" points=\"829.356,1486.45 829.356,47.2441 \"/>\n",
       "<polyline clip-path=\"url(#clip322)\" style=\"stroke:#000000; stroke-linecap:round; stroke-linejoin:round; stroke-width:2; stroke-opacity:0.1; fill:none\" points=\"1246.73,1486.45 1246.73,47.2441 \"/>\n",
       "<polyline clip-path=\"url(#clip322)\" style=\"stroke:#000000; stroke-linecap:round; stroke-linejoin:round; stroke-width:2; stroke-opacity:0.1; fill:none\" points=\"1664.1,1486.45 1664.1,47.2441 \"/>\n",
       "<polyline clip-path=\"url(#clip322)\" style=\"stroke:#000000; stroke-linecap:round; stroke-linejoin:round; stroke-width:2; stroke-opacity:0.1; fill:none\" points=\"2081.47,1486.45 2081.47,47.2441 \"/>\n",
       "<polyline clip-path=\"url(#clip320)\" style=\"stroke:#000000; stroke-linecap:round; stroke-linejoin:round; stroke-width:4; stroke-opacity:1; fill:none\" points=\"140.696,1486.45 2352.76,1486.45 \"/>\n",
       "<polyline clip-path=\"url(#clip320)\" style=\"stroke:#000000; stroke-linecap:round; stroke-linejoin:round; stroke-width:4; stroke-opacity:1; fill:none\" points=\"411.986,1486.45 411.986,1467.55 \"/>\n",
       "<polyline clip-path=\"url(#clip320)\" style=\"stroke:#000000; stroke-linecap:round; stroke-linejoin:round; stroke-width:4; stroke-opacity:1; fill:none\" points=\"829.356,1486.45 829.356,1467.55 \"/>\n",
       "<polyline clip-path=\"url(#clip320)\" style=\"stroke:#000000; stroke-linecap:round; stroke-linejoin:round; stroke-width:4; stroke-opacity:1; fill:none\" points=\"1246.73,1486.45 1246.73,1467.55 \"/>\n",
       "<polyline clip-path=\"url(#clip320)\" style=\"stroke:#000000; stroke-linecap:round; stroke-linejoin:round; stroke-width:4; stroke-opacity:1; fill:none\" points=\"1664.1,1486.45 1664.1,1467.55 \"/>\n",
       "<polyline clip-path=\"url(#clip320)\" style=\"stroke:#000000; stroke-linecap:round; stroke-linejoin:round; stroke-width:4; stroke-opacity:1; fill:none\" points=\"2081.47,1486.45 2081.47,1467.55 \"/>\n",
       "<path clip-path=\"url(#clip320)\" d=\"M380.887 1532.02 L410.562 1532.02 L410.562 1535.95 L380.887 1535.95 L380.887 1532.02 Z\" fill=\"#000000\" fill-rule=\"nonzero\" fill-opacity=\"1\" /><path clip-path=\"url(#clip320)\" d=\"M433.502 1518.36 L421.697 1536.81 L433.502 1536.81 L433.502 1518.36 M432.275 1514.29 L438.155 1514.29 L438.155 1536.81 L443.085 1536.81 L443.085 1540.7 L438.155 1540.7 L438.155 1548.85 L433.502 1548.85 L433.502 1540.7 L417.9 1540.7 L417.9 1536.19 L432.275 1514.29 Z\" fill=\"#000000\" fill-rule=\"nonzero\" fill-opacity=\"1\" /><path clip-path=\"url(#clip320)\" d=\"M799.298 1532.02 L828.974 1532.02 L828.974 1535.95 L799.298 1535.95 L799.298 1532.02 Z\" fill=\"#000000\" fill-rule=\"nonzero\" fill-opacity=\"1\" /><path clip-path=\"url(#clip320)\" d=\"M843.094 1544.91 L859.414 1544.91 L859.414 1548.85 L837.469 1548.85 L837.469 1544.91 Q840.131 1542.16 844.715 1537.53 Q849.321 1532.88 850.502 1531.53 Q852.747 1529.01 853.627 1527.27 Q854.529 1525.51 854.529 1523.82 Q854.529 1521.07 852.585 1519.33 Q850.664 1517.6 847.562 1517.6 Q845.363 1517.6 842.909 1518.36 Q840.478 1519.13 837.701 1520.68 L837.701 1515.95 Q840.525 1514.82 842.978 1514.24 Q845.432 1513.66 847.469 1513.66 Q852.84 1513.66 856.034 1516.35 Q859.228 1519.03 859.228 1523.52 Q859.228 1525.65 858.418 1527.57 Q857.631 1529.47 855.525 1532.07 Q854.946 1532.74 851.844 1535.95 Q848.742 1539.15 843.094 1544.91 Z\" fill=\"#000000\" fill-rule=\"nonzero\" fill-opacity=\"1\" /><path clip-path=\"url(#clip320)\" d=\"M1246.73 1517.37 Q1243.11 1517.37 1241.29 1520.93 Q1239.48 1524.47 1239.48 1531.6 Q1239.48 1538.71 1241.29 1542.27 Q1243.11 1545.82 1246.73 1545.82 Q1250.36 1545.82 1252.17 1542.27 Q1253.99 1538.71 1253.99 1531.6 Q1253.99 1524.47 1252.17 1520.93 Q1250.36 1517.37 1246.73 1517.37 M1246.73 1513.66 Q1252.54 1513.66 1255.59 1518.27 Q1258.67 1522.85 1258.67 1531.6 Q1258.67 1540.33 1255.59 1544.94 Q1252.54 1549.52 1246.73 1549.52 Q1240.92 1549.52 1237.84 1544.94 Q1234.78 1540.33 1234.78 1531.6 Q1234.78 1522.85 1237.84 1518.27 Q1240.92 1513.66 1246.73 1513.66 Z\" fill=\"#000000\" fill-rule=\"nonzero\" fill-opacity=\"1\" /><path clip-path=\"url(#clip320)\" d=\"M1658.75 1544.91 L1675.07 1544.91 L1675.07 1548.85 L1653.12 1548.85 L1653.12 1544.91 Q1655.79 1542.16 1660.37 1537.53 Q1664.98 1532.88 1666.16 1531.53 Q1668.4 1529.01 1669.28 1527.27 Q1670.18 1525.51 1670.18 1523.82 Q1670.18 1521.07 1668.24 1519.33 Q1666.32 1517.6 1663.22 1517.6 Q1661.02 1517.6 1658.56 1518.36 Q1656.13 1519.13 1653.35 1520.68 L1653.35 1515.95 Q1656.18 1514.82 1658.63 1514.24 Q1661.09 1513.66 1663.12 1513.66 Q1668.49 1513.66 1671.69 1516.35 Q1674.88 1519.03 1674.88 1523.52 Q1674.88 1525.65 1674.07 1527.57 Q1673.29 1529.47 1671.18 1532.07 Q1670.6 1532.74 1667.5 1535.95 Q1664.4 1539.15 1658.75 1544.91 Z\" fill=\"#000000\" fill-rule=\"nonzero\" fill-opacity=\"1\" /><path clip-path=\"url(#clip320)\" d=\"M2084.47 1518.36 L2072.67 1536.81 L2084.47 1536.81 L2084.47 1518.36 M2083.25 1514.29 L2089.13 1514.29 L2089.13 1536.81 L2094.06 1536.81 L2094.06 1540.7 L2089.13 1540.7 L2089.13 1548.85 L2084.47 1548.85 L2084.47 1540.7 L2068.87 1540.7 L2068.87 1536.19 L2083.25 1514.29 Z\" fill=\"#000000\" fill-rule=\"nonzero\" fill-opacity=\"1\" /><polyline clip-path=\"url(#clip322)\" style=\"stroke:#000000; stroke-linecap:round; stroke-linejoin:round; stroke-width:2; stroke-opacity:0.1; fill:none\" points=\"140.696,1445.74 2352.76,1445.74 \"/>\n",
       "<polyline clip-path=\"url(#clip322)\" style=\"stroke:#000000; stroke-linecap:round; stroke-linejoin:round; stroke-width:2; stroke-opacity:0.1; fill:none\" points=\"140.696,1174.19 2352.76,1174.19 \"/>\n",
       "<polyline clip-path=\"url(#clip322)\" style=\"stroke:#000000; stroke-linecap:round; stroke-linejoin:round; stroke-width:2; stroke-opacity:0.1; fill:none\" points=\"140.696,902.637 2352.76,902.637 \"/>\n",
       "<polyline clip-path=\"url(#clip322)\" style=\"stroke:#000000; stroke-linecap:round; stroke-linejoin:round; stroke-width:2; stroke-opacity:0.1; fill:none\" points=\"140.696,631.083 2352.76,631.083 \"/>\n",
       "<polyline clip-path=\"url(#clip322)\" style=\"stroke:#000000; stroke-linecap:round; stroke-linejoin:round; stroke-width:2; stroke-opacity:0.1; fill:none\" points=\"140.696,359.53 2352.76,359.53 \"/>\n",
       "<polyline clip-path=\"url(#clip322)\" style=\"stroke:#000000; stroke-linecap:round; stroke-linejoin:round; stroke-width:2; stroke-opacity:0.1; fill:none\" points=\"140.696,87.9763 2352.76,87.9763 \"/>\n",
       "<polyline clip-path=\"url(#clip320)\" style=\"stroke:#000000; stroke-linecap:round; stroke-linejoin:round; stroke-width:4; stroke-opacity:1; fill:none\" points=\"140.696,1486.45 140.696,47.2441 \"/>\n",
       "<polyline clip-path=\"url(#clip320)\" style=\"stroke:#000000; stroke-linecap:round; stroke-linejoin:round; stroke-width:4; stroke-opacity:1; fill:none\" points=\"140.696,1445.74 159.593,1445.74 \"/>\n",
       "<polyline clip-path=\"url(#clip320)\" style=\"stroke:#000000; stroke-linecap:round; stroke-linejoin:round; stroke-width:4; stroke-opacity:1; fill:none\" points=\"140.696,1174.19 159.593,1174.19 \"/>\n",
       "<polyline clip-path=\"url(#clip320)\" style=\"stroke:#000000; stroke-linecap:round; stroke-linejoin:round; stroke-width:4; stroke-opacity:1; fill:none\" points=\"140.696,902.637 159.593,902.637 \"/>\n",
       "<polyline clip-path=\"url(#clip320)\" style=\"stroke:#000000; stroke-linecap:round; stroke-linejoin:round; stroke-width:4; stroke-opacity:1; fill:none\" points=\"140.696,631.083 159.593,631.083 \"/>\n",
       "<polyline clip-path=\"url(#clip320)\" style=\"stroke:#000000; stroke-linecap:round; stroke-linejoin:round; stroke-width:4; stroke-opacity:1; fill:none\" points=\"140.696,359.53 159.593,359.53 \"/>\n",
       "<polyline clip-path=\"url(#clip320)\" style=\"stroke:#000000; stroke-linecap:round; stroke-linejoin:round; stroke-width:4; stroke-opacity:1; fill:none\" points=\"140.696,87.9763 159.593,87.9763 \"/>\n",
       "<path clip-path=\"url(#clip320)\" d=\"M92.7512 1431.54 Q89.1401 1431.54 87.3114 1435.11 Q85.5058 1438.65 85.5058 1445.78 Q85.5058 1452.88 87.3114 1456.45 Q89.1401 1459.99 92.7512 1459.99 Q96.3854 1459.99 98.1909 1456.45 Q100.02 1452.88 100.02 1445.78 Q100.02 1438.65 98.1909 1435.11 Q96.3854 1431.54 92.7512 1431.54 M92.7512 1427.84 Q98.5613 1427.84 101.617 1432.45 Q104.696 1437.03 104.696 1445.78 Q104.696 1454.51 101.617 1459.11 Q98.5613 1463.7 92.7512 1463.7 Q86.941 1463.7 83.8623 1459.11 Q80.8068 1454.51 80.8068 1445.78 Q80.8068 1437.03 83.8623 1432.45 Q86.941 1427.84 92.7512 1427.84 Z\" fill=\"#000000\" fill-rule=\"nonzero\" fill-opacity=\"1\" /><path clip-path=\"url(#clip320)\" d=\"M83.7929 1156.91 L102.149 1156.91 L102.149 1160.85 L88.0753 1160.85 L88.0753 1169.32 Q89.0938 1168.97 90.1123 1168.81 Q91.1308 1168.62 92.1493 1168.62 Q97.9363 1168.62 101.316 1171.79 Q104.696 1174.97 104.696 1180.38 Q104.696 1185.96 101.223 1189.06 Q97.7511 1192.14 91.4317 1192.14 Q89.2558 1192.14 86.9873 1191.77 Q84.7419 1191.4 82.3346 1190.66 L82.3346 1185.96 Q84.4179 1187.1 86.6401 1187.65 Q88.8623 1188.21 91.3391 1188.21 Q95.3437 1188.21 97.6817 1186.1 Q100.02 1183.99 100.02 1180.38 Q100.02 1176.77 97.6817 1174.66 Q95.3437 1172.56 91.3391 1172.56 Q89.4641 1172.56 87.5892 1172.97 Q85.7373 1173.39 83.7929 1174.27 L83.7929 1156.91 Z\" fill=\"#000000\" fill-rule=\"nonzero\" fill-opacity=\"1\" /><path clip-path=\"url(#clip320)\" d=\"M53.3995 915.982 L61.0384 915.982 L61.0384 889.616 L52.7282 891.283 L52.7282 887.023 L60.9921 885.357 L65.668 885.357 L65.668 915.982 L73.3068 915.982 L73.3068 919.917 L53.3995 919.917 L53.3995 915.982 Z\" fill=\"#000000\" fill-rule=\"nonzero\" fill-opacity=\"1\" /><path clip-path=\"url(#clip320)\" d=\"M92.7512 888.435 Q89.1401 888.435 87.3114 892 Q85.5058 895.542 85.5058 902.671 Q85.5058 909.778 87.3114 913.343 Q89.1401 916.884 92.7512 916.884 Q96.3854 916.884 98.1909 913.343 Q100.02 909.778 100.02 902.671 Q100.02 895.542 98.1909 892 Q96.3854 888.435 92.7512 888.435 M92.7512 884.732 Q98.5613 884.732 101.617 889.338 Q104.696 893.922 104.696 902.671 Q104.696 911.398 101.617 916.005 Q98.5613 920.588 92.7512 920.588 Q86.941 920.588 83.8623 916.005 Q80.8068 911.398 80.8068 902.671 Q80.8068 893.922 83.8623 889.338 Q86.941 884.732 92.7512 884.732 Z\" fill=\"#000000\" fill-rule=\"nonzero\" fill-opacity=\"1\" /><path clip-path=\"url(#clip320)\" d=\"M54.3949 644.428 L62.0337 644.428 L62.0337 618.063 L53.7236 619.729 L53.7236 615.47 L61.9874 613.803 L66.6633 613.803 L66.6633 644.428 L74.3022 644.428 L74.3022 648.363 L54.3949 648.363 L54.3949 644.428 Z\" fill=\"#000000\" fill-rule=\"nonzero\" fill-opacity=\"1\" /><path clip-path=\"url(#clip320)\" d=\"M83.7929 613.803 L102.149 613.803 L102.149 617.738 L88.0753 617.738 L88.0753 626.211 Q89.0938 625.863 90.1123 625.701 Q91.1308 625.516 92.1493 625.516 Q97.9363 625.516 101.316 628.687 Q104.696 631.859 104.696 637.275 Q104.696 642.854 101.223 645.956 Q97.7511 649.035 91.4317 649.035 Q89.2558 649.035 86.9873 648.664 Q84.7419 648.294 82.3346 647.553 L82.3346 642.854 Q84.4179 643.988 86.6401 644.544 Q88.8623 645.099 91.3391 645.099 Q95.3437 645.099 97.6817 642.993 Q100.02 640.886 100.02 637.275 Q100.02 633.664 97.6817 631.558 Q95.3437 629.451 91.3391 629.451 Q89.4641 629.451 87.5892 629.868 Q85.7373 630.285 83.7929 631.164 L83.7929 613.803 Z\" fill=\"#000000\" fill-rule=\"nonzero\" fill-opacity=\"1\" /><path clip-path=\"url(#clip320)\" d=\"M56.6171 372.875 L72.9365 372.875 L72.9365 376.81 L50.9921 376.81 L50.9921 372.875 Q53.6541 370.12 58.2375 365.49 Q62.8439 360.838 64.0245 359.495 Q66.2698 356.972 67.1494 355.236 Q68.0522 353.477 68.0522 351.787 Q68.0522 349.032 66.1078 347.296 Q64.1865 345.56 61.0847 345.56 Q58.8856 345.56 56.4319 346.324 Q54.0014 347.088 51.2236 348.639 L51.2236 343.916 Q54.0477 342.782 56.5014 342.203 Q58.955 341.625 60.9921 341.625 Q66.3624 341.625 69.5568 344.31 Q72.7513 346.995 72.7513 351.486 Q72.7513 353.615 71.9411 355.537 Q71.1541 357.435 69.0476 360.027 Q68.4689 360.699 65.367 363.916 Q62.2652 367.111 56.6171 372.875 Z\" fill=\"#000000\" fill-rule=\"nonzero\" fill-opacity=\"1\" /><path clip-path=\"url(#clip320)\" d=\"M92.7512 345.328 Q89.1401 345.328 87.3114 348.893 Q85.5058 352.435 85.5058 359.564 Q85.5058 366.671 87.3114 370.236 Q89.1401 373.777 92.7512 373.777 Q96.3854 373.777 98.1909 370.236 Q100.02 366.671 100.02 359.564 Q100.02 352.435 98.1909 348.893 Q96.3854 345.328 92.7512 345.328 M92.7512 341.625 Q98.5613 341.625 101.617 346.231 Q104.696 350.815 104.696 359.564 Q104.696 368.291 101.617 372.898 Q98.5613 377.481 92.7512 377.481 Q86.941 377.481 83.8623 372.898 Q80.8068 368.291 80.8068 359.564 Q80.8068 350.815 83.8623 346.231 Q86.941 341.625 92.7512 341.625 Z\" fill=\"#000000\" fill-rule=\"nonzero\" fill-opacity=\"1\" /><path clip-path=\"url(#clip320)\" d=\"M57.6125 101.321 L73.9318 101.321 L73.9318 105.256 L51.9875 105.256 L51.9875 101.321 Q54.6495 98.5665 59.2328 93.9369 Q63.8393 89.2841 65.0198 87.9416 Q67.2652 85.4184 68.1448 83.6823 Q69.0476 81.9231 69.0476 80.2333 Q69.0476 77.4786 67.1032 75.7425 Q65.1819 74.0064 62.08 74.0064 Q59.881 74.0064 57.4273 74.7703 Q54.9967 75.5342 52.219 77.0851 L52.219 72.3629 Q55.043 71.2287 57.4967 70.65 Q59.9504 70.0713 61.9874 70.0713 Q67.3578 70.0713 70.5522 72.7565 Q73.7466 75.4416 73.7466 79.9323 Q73.7466 82.062 72.9365 83.9832 Q72.1494 85.8814 70.0429 88.474 Q69.4642 89.1453 66.3624 92.3628 Q63.2606 95.5573 57.6125 101.321 Z\" fill=\"#000000\" fill-rule=\"nonzero\" fill-opacity=\"1\" /><path clip-path=\"url(#clip320)\" d=\"M83.7929 70.6963 L102.149 70.6963 L102.149 74.6314 L88.0753 74.6314 L88.0753 83.1036 Q89.0938 82.7564 90.1123 82.5944 Q91.1308 82.4092 92.1493 82.4092 Q97.9363 82.4092 101.316 85.5805 Q104.696 88.7517 104.696 94.1684 Q104.696 99.747 101.223 102.849 Q97.7511 105.928 91.4317 105.928 Q89.2558 105.928 86.9873 105.557 Q84.7419 105.187 82.3346 104.446 L82.3346 99.747 Q84.4179 100.881 86.6401 101.437 Q88.8623 101.992 91.3391 101.992 Q95.3437 101.992 97.6817 99.8859 Q100.02 97.7795 100.02 94.1684 Q100.02 90.5573 97.6817 88.4508 Q95.3437 86.3443 91.3391 86.3443 Q89.4641 86.3443 87.5892 86.761 Q85.7373 87.1777 83.7929 88.0573 L83.7929 70.6963 Z\" fill=\"#000000\" fill-rule=\"nonzero\" fill-opacity=\"1\" /><polyline clip-path=\"url(#clip322)\" style=\"stroke:#009af9; stroke-linecap:round; stroke-linejoin:round; stroke-width:4; stroke-opacity:1; fill:none\" points=\"203.301,87.9763 206.698,96.8017 210.094,105.598 213.491,114.366 216.888,123.105 248.294,202.548 279.701,279.53 311.108,354.052 342.515,426.113 380.263,509.47 418.011,589.272 449.927,653.971 481.843,716.13 516.512,780.772 551.182,842.417 583.144,896.592 615.106,948.219 649.373,1000.74 683.639,1050.33 703.49,1077.72 723.341,1104.12 743.192,1129.54 763.042,1153.98 798.324,1195 833.606,1232.9 864.545,1263.59 895.484,1291.89 929.216,1320.02 962.948,1345.31 996.881,1367.9 1030.81,1387.61 1068.33,1406.05 1105.85,1420.99 1141.54,1431.95 1177.24,1439.72 1214.35,1444.44 1251.47,1445.72 1282.71,1444.13 1313.96,1440.11 1333.03,1436.45 1352.1,1431.9 1371.17,1426.43 1390.25,1420.06 1425.19,1406.02 1460.13,1388.95 1492.4,1370.47 1524.68,1349.4 1557.37,1325.4 1590.06,1298.74 1626.7,1265.69 1663.33,1229.29 1696.53,1193.42 1729.73,1154.8 1748.74,1131.45 1767.74,1107.2 1786.75,1082.05 1805.76,1056 1840.95,1005.39 1876.15,951.678 1910.84,895.704 1945.54,836.726 1979.23,776.591 2012.92,713.625 2047.46,646.139 2081.99,575.677 2100.91,535.817 2119.83,495.063 2138.75,453.417 2157.67,410.878 2185.15,347.494 2212.63,282.225 2240.12,215.072 2267.6,146.036 2273.24,131.64 2278.87,117.165 2284.51,102.61 2290.15,87.9763 \"/>\n",
       "<path clip-path=\"url(#clip320)\" d=\"M2005.38 1438.47 L2279.02 1438.47 L2279.02 1334.79 L2005.38 1334.79  Z\" fill=\"#ffffff\" fill-rule=\"evenodd\" fill-opacity=\"1\"/>\n",
       "<polyline clip-path=\"url(#clip320)\" style=\"stroke:#000000; stroke-linecap:round; stroke-linejoin:round; stroke-width:4; stroke-opacity:1; fill:none\" points=\"2005.38,1438.47 2279.02,1438.47 2279.02,1334.79 2005.38,1334.79 2005.38,1438.47 \"/>\n",
       "<polyline clip-path=\"url(#clip320)\" style=\"stroke:#009af9; stroke-linecap:round; stroke-linejoin:round; stroke-width:4; stroke-opacity:1; fill:none\" points=\"2029.96,1386.63 2177.43,1386.63 \"/>\n",
       "<path clip-path=\"url(#clip320)\" d=\"M2215.85 1406.32 Q2214.05 1410.95 2212.34 1412.36 Q2210.62 1413.78 2207.75 1413.78 L2204.35 1413.78 L2204.35 1410.21 L2206.85 1410.21 Q2208.61 1410.21 2209.58 1409.38 Q2210.55 1408.54 2211.73 1405.44 L2212.5 1403.5 L2202.01 1377.99 L2206.53 1377.99 L2214.63 1398.27 L2222.73 1377.99 L2227.24 1377.99 L2215.85 1406.32 Z\" fill=\"#000000\" fill-rule=\"nonzero\" fill-opacity=\"1\" /><path clip-path=\"url(#clip320)\" d=\"M2234.53 1399.98 L2242.17 1399.98 L2242.17 1373.61 L2233.86 1375.28 L2233.86 1371.02 L2242.13 1369.35 L2246.8 1369.35 L2246.8 1399.98 L2254.44 1399.98 L2254.44 1403.91 L2234.53 1403.91 L2234.53 1399.98 Z\" fill=\"#000000\" fill-rule=\"nonzero\" fill-opacity=\"1\" /></svg>\n"
      ],
      "text/html": [
       "<?xml version=\"1.0\" encoding=\"utf-8\"?>\n",
       "<svg xmlns=\"http://www.w3.org/2000/svg\" xmlns:xlink=\"http://www.w3.org/1999/xlink\" width=\"600\" height=\"400\" viewBox=\"0 0 2400 1600\">\n",
       "<defs>\n",
       "  <clipPath id=\"clip370\">\n",
       "    <rect x=\"0\" y=\"0\" width=\"2400\" height=\"1600\"/>\n",
       "  </clipPath>\n",
       "</defs>\n",
       "<path clip-path=\"url(#clip370)\" d=\"M0 1600 L2400 1600 L2400 0 L0 0  Z\" fill=\"#ffffff\" fill-rule=\"evenodd\" fill-opacity=\"1\"/>\n",
       "<defs>\n",
       "  <clipPath id=\"clip371\">\n",
       "    <rect x=\"480\" y=\"0\" width=\"1681\" height=\"1600\"/>\n",
       "  </clipPath>\n",
       "</defs>\n",
       "<path clip-path=\"url(#clip370)\" d=\"M140.696 1486.45 L2352.76 1486.45 L2352.76 47.2441 L140.696 47.2441  Z\" fill=\"#ffffff\" fill-rule=\"evenodd\" fill-opacity=\"1\"/>\n",
       "<defs>\n",
       "  <clipPath id=\"clip372\">\n",
       "    <rect x=\"140\" y=\"47\" width=\"2213\" height=\"1440\"/>\n",
       "  </clipPath>\n",
       "</defs>\n",
       "<polyline clip-path=\"url(#clip372)\" style=\"stroke:#000000; stroke-linecap:round; stroke-linejoin:round; stroke-width:2; stroke-opacity:0.1; fill:none\" points=\"411.986,1486.45 411.986,47.2441 \"/>\n",
       "<polyline clip-path=\"url(#clip372)\" style=\"stroke:#000000; stroke-linecap:round; stroke-linejoin:round; stroke-width:2; stroke-opacity:0.1; fill:none\" points=\"829.356,1486.45 829.356,47.2441 \"/>\n",
       "<polyline clip-path=\"url(#clip372)\" style=\"stroke:#000000; stroke-linecap:round; stroke-linejoin:round; stroke-width:2; stroke-opacity:0.1; fill:none\" points=\"1246.73,1486.45 1246.73,47.2441 \"/>\n",
       "<polyline clip-path=\"url(#clip372)\" style=\"stroke:#000000; stroke-linecap:round; stroke-linejoin:round; stroke-width:2; stroke-opacity:0.1; fill:none\" points=\"1664.1,1486.45 1664.1,47.2441 \"/>\n",
       "<polyline clip-path=\"url(#clip372)\" style=\"stroke:#000000; stroke-linecap:round; stroke-linejoin:round; stroke-width:2; stroke-opacity:0.1; fill:none\" points=\"2081.47,1486.45 2081.47,47.2441 \"/>\n",
       "<polyline clip-path=\"url(#clip370)\" style=\"stroke:#000000; stroke-linecap:round; stroke-linejoin:round; stroke-width:4; stroke-opacity:1; fill:none\" points=\"140.696,1486.45 2352.76,1486.45 \"/>\n",
       "<polyline clip-path=\"url(#clip370)\" style=\"stroke:#000000; stroke-linecap:round; stroke-linejoin:round; stroke-width:4; stroke-opacity:1; fill:none\" points=\"411.986,1486.45 411.986,1467.55 \"/>\n",
       "<polyline clip-path=\"url(#clip370)\" style=\"stroke:#000000; stroke-linecap:round; stroke-linejoin:round; stroke-width:4; stroke-opacity:1; fill:none\" points=\"829.356,1486.45 829.356,1467.55 \"/>\n",
       "<polyline clip-path=\"url(#clip370)\" style=\"stroke:#000000; stroke-linecap:round; stroke-linejoin:round; stroke-width:4; stroke-opacity:1; fill:none\" points=\"1246.73,1486.45 1246.73,1467.55 \"/>\n",
       "<polyline clip-path=\"url(#clip370)\" style=\"stroke:#000000; stroke-linecap:round; stroke-linejoin:round; stroke-width:4; stroke-opacity:1; fill:none\" points=\"1664.1,1486.45 1664.1,1467.55 \"/>\n",
       "<polyline clip-path=\"url(#clip370)\" style=\"stroke:#000000; stroke-linecap:round; stroke-linejoin:round; stroke-width:4; stroke-opacity:1; fill:none\" points=\"2081.47,1486.45 2081.47,1467.55 \"/>\n",
       "<path clip-path=\"url(#clip370)\" d=\"M380.887 1532.02 L410.562 1532.02 L410.562 1535.95 L380.887 1535.95 L380.887 1532.02 Z\" fill=\"#000000\" fill-rule=\"nonzero\" fill-opacity=\"1\" /><path clip-path=\"url(#clip370)\" d=\"M433.502 1518.36 L421.697 1536.81 L433.502 1536.81 L433.502 1518.36 M432.275 1514.29 L438.155 1514.29 L438.155 1536.81 L443.085 1536.81 L443.085 1540.7 L438.155 1540.7 L438.155 1548.85 L433.502 1548.85 L433.502 1540.7 L417.9 1540.7 L417.9 1536.19 L432.275 1514.29 Z\" fill=\"#000000\" fill-rule=\"nonzero\" fill-opacity=\"1\" /><path clip-path=\"url(#clip370)\" d=\"M799.298 1532.02 L828.974 1532.02 L828.974 1535.95 L799.298 1535.95 L799.298 1532.02 Z\" fill=\"#000000\" fill-rule=\"nonzero\" fill-opacity=\"1\" /><path clip-path=\"url(#clip370)\" d=\"M843.094 1544.91 L859.414 1544.91 L859.414 1548.85 L837.469 1548.85 L837.469 1544.91 Q840.131 1542.16 844.715 1537.53 Q849.321 1532.88 850.502 1531.53 Q852.747 1529.01 853.627 1527.27 Q854.529 1525.51 854.529 1523.82 Q854.529 1521.07 852.585 1519.33 Q850.664 1517.6 847.562 1517.6 Q845.363 1517.6 842.909 1518.36 Q840.478 1519.13 837.701 1520.68 L837.701 1515.95 Q840.525 1514.82 842.978 1514.24 Q845.432 1513.66 847.469 1513.66 Q852.84 1513.66 856.034 1516.35 Q859.228 1519.03 859.228 1523.52 Q859.228 1525.65 858.418 1527.57 Q857.631 1529.47 855.525 1532.07 Q854.946 1532.74 851.844 1535.95 Q848.742 1539.15 843.094 1544.91 Z\" fill=\"#000000\" fill-rule=\"nonzero\" fill-opacity=\"1\" /><path clip-path=\"url(#clip370)\" d=\"M1246.73 1517.37 Q1243.11 1517.37 1241.29 1520.93 Q1239.48 1524.47 1239.48 1531.6 Q1239.48 1538.71 1241.29 1542.27 Q1243.11 1545.82 1246.73 1545.82 Q1250.36 1545.82 1252.17 1542.27 Q1253.99 1538.71 1253.99 1531.6 Q1253.99 1524.47 1252.17 1520.93 Q1250.36 1517.37 1246.73 1517.37 M1246.73 1513.66 Q1252.54 1513.66 1255.59 1518.27 Q1258.67 1522.85 1258.67 1531.6 Q1258.67 1540.33 1255.59 1544.94 Q1252.54 1549.52 1246.73 1549.52 Q1240.92 1549.52 1237.84 1544.94 Q1234.78 1540.33 1234.78 1531.6 Q1234.78 1522.85 1237.84 1518.27 Q1240.92 1513.66 1246.73 1513.66 Z\" fill=\"#000000\" fill-rule=\"nonzero\" fill-opacity=\"1\" /><path clip-path=\"url(#clip370)\" d=\"M1658.75 1544.91 L1675.07 1544.91 L1675.07 1548.85 L1653.12 1548.85 L1653.12 1544.91 Q1655.79 1542.16 1660.37 1537.53 Q1664.98 1532.88 1666.16 1531.53 Q1668.4 1529.01 1669.28 1527.27 Q1670.18 1525.51 1670.18 1523.82 Q1670.18 1521.07 1668.24 1519.33 Q1666.32 1517.6 1663.22 1517.6 Q1661.02 1517.6 1658.56 1518.36 Q1656.13 1519.13 1653.35 1520.68 L1653.35 1515.95 Q1656.18 1514.82 1658.63 1514.24 Q1661.09 1513.66 1663.12 1513.66 Q1668.49 1513.66 1671.69 1516.35 Q1674.88 1519.03 1674.88 1523.52 Q1674.88 1525.65 1674.07 1527.57 Q1673.29 1529.47 1671.18 1532.07 Q1670.6 1532.74 1667.5 1535.95 Q1664.4 1539.15 1658.75 1544.91 Z\" fill=\"#000000\" fill-rule=\"nonzero\" fill-opacity=\"1\" /><path clip-path=\"url(#clip370)\" d=\"M2084.47 1518.36 L2072.67 1536.81 L2084.47 1536.81 L2084.47 1518.36 M2083.25 1514.29 L2089.13 1514.29 L2089.13 1536.81 L2094.06 1536.81 L2094.06 1540.7 L2089.13 1540.7 L2089.13 1548.85 L2084.47 1548.85 L2084.47 1540.7 L2068.87 1540.7 L2068.87 1536.19 L2083.25 1514.29 Z\" fill=\"#000000\" fill-rule=\"nonzero\" fill-opacity=\"1\" /><polyline clip-path=\"url(#clip372)\" style=\"stroke:#000000; stroke-linecap:round; stroke-linejoin:round; stroke-width:2; stroke-opacity:0.1; fill:none\" points=\"140.696,1445.74 2352.76,1445.74 \"/>\n",
       "<polyline clip-path=\"url(#clip372)\" style=\"stroke:#000000; stroke-linecap:round; stroke-linejoin:round; stroke-width:2; stroke-opacity:0.1; fill:none\" points=\"140.696,1174.19 2352.76,1174.19 \"/>\n",
       "<polyline clip-path=\"url(#clip372)\" style=\"stroke:#000000; stroke-linecap:round; stroke-linejoin:round; stroke-width:2; stroke-opacity:0.1; fill:none\" points=\"140.696,902.637 2352.76,902.637 \"/>\n",
       "<polyline clip-path=\"url(#clip372)\" style=\"stroke:#000000; stroke-linecap:round; stroke-linejoin:round; stroke-width:2; stroke-opacity:0.1; fill:none\" points=\"140.696,631.083 2352.76,631.083 \"/>\n",
       "<polyline clip-path=\"url(#clip372)\" style=\"stroke:#000000; stroke-linecap:round; stroke-linejoin:round; stroke-width:2; stroke-opacity:0.1; fill:none\" points=\"140.696,359.53 2352.76,359.53 \"/>\n",
       "<polyline clip-path=\"url(#clip372)\" style=\"stroke:#000000; stroke-linecap:round; stroke-linejoin:round; stroke-width:2; stroke-opacity:0.1; fill:none\" points=\"140.696,87.9763 2352.76,87.9763 \"/>\n",
       "<polyline clip-path=\"url(#clip370)\" style=\"stroke:#000000; stroke-linecap:round; stroke-linejoin:round; stroke-width:4; stroke-opacity:1; fill:none\" points=\"140.696,1486.45 140.696,47.2441 \"/>\n",
       "<polyline clip-path=\"url(#clip370)\" style=\"stroke:#000000; stroke-linecap:round; stroke-linejoin:round; stroke-width:4; stroke-opacity:1; fill:none\" points=\"140.696,1445.74 159.593,1445.74 \"/>\n",
       "<polyline clip-path=\"url(#clip370)\" style=\"stroke:#000000; stroke-linecap:round; stroke-linejoin:round; stroke-width:4; stroke-opacity:1; fill:none\" points=\"140.696,1174.19 159.593,1174.19 \"/>\n",
       "<polyline clip-path=\"url(#clip370)\" style=\"stroke:#000000; stroke-linecap:round; stroke-linejoin:round; stroke-width:4; stroke-opacity:1; fill:none\" points=\"140.696,902.637 159.593,902.637 \"/>\n",
       "<polyline clip-path=\"url(#clip370)\" style=\"stroke:#000000; stroke-linecap:round; stroke-linejoin:round; stroke-width:4; stroke-opacity:1; fill:none\" points=\"140.696,631.083 159.593,631.083 \"/>\n",
       "<polyline clip-path=\"url(#clip370)\" style=\"stroke:#000000; stroke-linecap:round; stroke-linejoin:round; stroke-width:4; stroke-opacity:1; fill:none\" points=\"140.696,359.53 159.593,359.53 \"/>\n",
       "<polyline clip-path=\"url(#clip370)\" style=\"stroke:#000000; stroke-linecap:round; stroke-linejoin:round; stroke-width:4; stroke-opacity:1; fill:none\" points=\"140.696,87.9763 159.593,87.9763 \"/>\n",
       "<path clip-path=\"url(#clip370)\" d=\"M92.7512 1431.54 Q89.1401 1431.54 87.3114 1435.11 Q85.5058 1438.65 85.5058 1445.78 Q85.5058 1452.88 87.3114 1456.45 Q89.1401 1459.99 92.7512 1459.99 Q96.3854 1459.99 98.1909 1456.45 Q100.02 1452.88 100.02 1445.78 Q100.02 1438.65 98.1909 1435.11 Q96.3854 1431.54 92.7512 1431.54 M92.7512 1427.84 Q98.5613 1427.84 101.617 1432.45 Q104.696 1437.03 104.696 1445.78 Q104.696 1454.51 101.617 1459.11 Q98.5613 1463.7 92.7512 1463.7 Q86.941 1463.7 83.8623 1459.11 Q80.8068 1454.51 80.8068 1445.78 Q80.8068 1437.03 83.8623 1432.45 Q86.941 1427.84 92.7512 1427.84 Z\" fill=\"#000000\" fill-rule=\"nonzero\" fill-opacity=\"1\" /><path clip-path=\"url(#clip370)\" d=\"M83.7929 1156.91 L102.149 1156.91 L102.149 1160.85 L88.0753 1160.85 L88.0753 1169.32 Q89.0938 1168.97 90.1123 1168.81 Q91.1308 1168.62 92.1493 1168.62 Q97.9363 1168.62 101.316 1171.79 Q104.696 1174.97 104.696 1180.38 Q104.696 1185.96 101.223 1189.06 Q97.7511 1192.14 91.4317 1192.14 Q89.2558 1192.14 86.9873 1191.77 Q84.7419 1191.4 82.3346 1190.66 L82.3346 1185.96 Q84.4179 1187.1 86.6401 1187.65 Q88.8623 1188.21 91.3391 1188.21 Q95.3437 1188.21 97.6817 1186.1 Q100.02 1183.99 100.02 1180.38 Q100.02 1176.77 97.6817 1174.66 Q95.3437 1172.56 91.3391 1172.56 Q89.4641 1172.56 87.5892 1172.97 Q85.7373 1173.39 83.7929 1174.27 L83.7929 1156.91 Z\" fill=\"#000000\" fill-rule=\"nonzero\" fill-opacity=\"1\" /><path clip-path=\"url(#clip370)\" d=\"M53.3995 915.982 L61.0384 915.982 L61.0384 889.616 L52.7282 891.283 L52.7282 887.023 L60.9921 885.357 L65.668 885.357 L65.668 915.982 L73.3068 915.982 L73.3068 919.917 L53.3995 919.917 L53.3995 915.982 Z\" fill=\"#000000\" fill-rule=\"nonzero\" fill-opacity=\"1\" /><path clip-path=\"url(#clip370)\" d=\"M92.7512 888.435 Q89.1401 888.435 87.3114 892 Q85.5058 895.542 85.5058 902.671 Q85.5058 909.778 87.3114 913.343 Q89.1401 916.884 92.7512 916.884 Q96.3854 916.884 98.1909 913.343 Q100.02 909.778 100.02 902.671 Q100.02 895.542 98.1909 892 Q96.3854 888.435 92.7512 888.435 M92.7512 884.732 Q98.5613 884.732 101.617 889.338 Q104.696 893.922 104.696 902.671 Q104.696 911.398 101.617 916.005 Q98.5613 920.588 92.7512 920.588 Q86.941 920.588 83.8623 916.005 Q80.8068 911.398 80.8068 902.671 Q80.8068 893.922 83.8623 889.338 Q86.941 884.732 92.7512 884.732 Z\" fill=\"#000000\" fill-rule=\"nonzero\" fill-opacity=\"1\" /><path clip-path=\"url(#clip370)\" d=\"M54.3949 644.428 L62.0337 644.428 L62.0337 618.063 L53.7236 619.729 L53.7236 615.47 L61.9874 613.803 L66.6633 613.803 L66.6633 644.428 L74.3022 644.428 L74.3022 648.363 L54.3949 648.363 L54.3949 644.428 Z\" fill=\"#000000\" fill-rule=\"nonzero\" fill-opacity=\"1\" /><path clip-path=\"url(#clip370)\" d=\"M83.7929 613.803 L102.149 613.803 L102.149 617.738 L88.0753 617.738 L88.0753 626.211 Q89.0938 625.863 90.1123 625.701 Q91.1308 625.516 92.1493 625.516 Q97.9363 625.516 101.316 628.687 Q104.696 631.859 104.696 637.275 Q104.696 642.854 101.223 645.956 Q97.7511 649.035 91.4317 649.035 Q89.2558 649.035 86.9873 648.664 Q84.7419 648.294 82.3346 647.553 L82.3346 642.854 Q84.4179 643.988 86.6401 644.544 Q88.8623 645.099 91.3391 645.099 Q95.3437 645.099 97.6817 642.993 Q100.02 640.886 100.02 637.275 Q100.02 633.664 97.6817 631.558 Q95.3437 629.451 91.3391 629.451 Q89.4641 629.451 87.5892 629.868 Q85.7373 630.285 83.7929 631.164 L83.7929 613.803 Z\" fill=\"#000000\" fill-rule=\"nonzero\" fill-opacity=\"1\" /><path clip-path=\"url(#clip370)\" d=\"M56.6171 372.875 L72.9365 372.875 L72.9365 376.81 L50.9921 376.81 L50.9921 372.875 Q53.6541 370.12 58.2375 365.49 Q62.8439 360.838 64.0245 359.495 Q66.2698 356.972 67.1494 355.236 Q68.0522 353.477 68.0522 351.787 Q68.0522 349.032 66.1078 347.296 Q64.1865 345.56 61.0847 345.56 Q58.8856 345.56 56.4319 346.324 Q54.0014 347.088 51.2236 348.639 L51.2236 343.916 Q54.0477 342.782 56.5014 342.203 Q58.955 341.625 60.9921 341.625 Q66.3624 341.625 69.5568 344.31 Q72.7513 346.995 72.7513 351.486 Q72.7513 353.615 71.9411 355.537 Q71.1541 357.435 69.0476 360.027 Q68.4689 360.699 65.367 363.916 Q62.2652 367.111 56.6171 372.875 Z\" fill=\"#000000\" fill-rule=\"nonzero\" fill-opacity=\"1\" /><path clip-path=\"url(#clip370)\" d=\"M92.7512 345.328 Q89.1401 345.328 87.3114 348.893 Q85.5058 352.435 85.5058 359.564 Q85.5058 366.671 87.3114 370.236 Q89.1401 373.777 92.7512 373.777 Q96.3854 373.777 98.1909 370.236 Q100.02 366.671 100.02 359.564 Q100.02 352.435 98.1909 348.893 Q96.3854 345.328 92.7512 345.328 M92.7512 341.625 Q98.5613 341.625 101.617 346.231 Q104.696 350.815 104.696 359.564 Q104.696 368.291 101.617 372.898 Q98.5613 377.481 92.7512 377.481 Q86.941 377.481 83.8623 372.898 Q80.8068 368.291 80.8068 359.564 Q80.8068 350.815 83.8623 346.231 Q86.941 341.625 92.7512 341.625 Z\" fill=\"#000000\" fill-rule=\"nonzero\" fill-opacity=\"1\" /><path clip-path=\"url(#clip370)\" d=\"M57.6125 101.321 L73.9318 101.321 L73.9318 105.256 L51.9875 105.256 L51.9875 101.321 Q54.6495 98.5665 59.2328 93.9369 Q63.8393 89.2841 65.0198 87.9416 Q67.2652 85.4184 68.1448 83.6823 Q69.0476 81.9231 69.0476 80.2333 Q69.0476 77.4786 67.1032 75.7425 Q65.1819 74.0064 62.08 74.0064 Q59.881 74.0064 57.4273 74.7703 Q54.9967 75.5342 52.219 77.0851 L52.219 72.3629 Q55.043 71.2287 57.4967 70.65 Q59.9504 70.0713 61.9874 70.0713 Q67.3578 70.0713 70.5522 72.7565 Q73.7466 75.4416 73.7466 79.9323 Q73.7466 82.062 72.9365 83.9832 Q72.1494 85.8814 70.0429 88.474 Q69.4642 89.1453 66.3624 92.3628 Q63.2606 95.5573 57.6125 101.321 Z\" fill=\"#000000\" fill-rule=\"nonzero\" fill-opacity=\"1\" /><path clip-path=\"url(#clip370)\" d=\"M83.7929 70.6963 L102.149 70.6963 L102.149 74.6314 L88.0753 74.6314 L88.0753 83.1036 Q89.0938 82.7564 90.1123 82.5944 Q91.1308 82.4092 92.1493 82.4092 Q97.9363 82.4092 101.316 85.5805 Q104.696 88.7517 104.696 94.1684 Q104.696 99.747 101.223 102.849 Q97.7511 105.928 91.4317 105.928 Q89.2558 105.928 86.9873 105.557 Q84.7419 105.187 82.3346 104.446 L82.3346 99.747 Q84.4179 100.881 86.6401 101.437 Q88.8623 101.992 91.3391 101.992 Q95.3437 101.992 97.6817 99.8859 Q100.02 97.7795 100.02 94.1684 Q100.02 90.5573 97.6817 88.4508 Q95.3437 86.3443 91.3391 86.3443 Q89.4641 86.3443 87.5892 86.761 Q85.7373 87.1777 83.7929 88.0573 L83.7929 70.6963 Z\" fill=\"#000000\" fill-rule=\"nonzero\" fill-opacity=\"1\" /><polyline clip-path=\"url(#clip372)\" style=\"stroke:#009af9; stroke-linecap:round; stroke-linejoin:round; stroke-width:4; stroke-opacity:1; fill:none\" points=\"203.301,87.9763 206.698,96.8017 210.094,105.598 213.491,114.366 216.888,123.105 248.294,202.548 279.701,279.53 311.108,354.052 342.515,426.113 380.263,509.47 418.011,589.272 449.927,653.971 481.843,716.13 516.512,780.772 551.182,842.417 583.144,896.592 615.106,948.219 649.373,1000.74 683.639,1050.33 703.49,1077.72 723.341,1104.12 743.192,1129.54 763.042,1153.98 798.324,1195 833.606,1232.9 864.545,1263.59 895.484,1291.89 929.216,1320.02 962.948,1345.31 996.881,1367.9 1030.81,1387.61 1068.33,1406.05 1105.85,1420.99 1141.54,1431.95 1177.24,1439.72 1214.35,1444.44 1251.47,1445.72 1282.71,1444.13 1313.96,1440.11 1333.03,1436.45 1352.1,1431.9 1371.17,1426.43 1390.25,1420.06 1425.19,1406.02 1460.13,1388.95 1492.4,1370.47 1524.68,1349.4 1557.37,1325.4 1590.06,1298.74 1626.7,1265.69 1663.33,1229.29 1696.53,1193.42 1729.73,1154.8 1748.74,1131.45 1767.74,1107.2 1786.75,1082.05 1805.76,1056 1840.95,1005.39 1876.15,951.678 1910.84,895.704 1945.54,836.726 1979.23,776.591 2012.92,713.625 2047.46,646.139 2081.99,575.677 2100.91,535.817 2119.83,495.063 2138.75,453.417 2157.67,410.878 2185.15,347.494 2212.63,282.225 2240.12,215.072 2267.6,146.036 2273.24,131.64 2278.87,117.165 2284.51,102.61 2290.15,87.9763 \"/>\n",
       "<path clip-path=\"url(#clip370)\" d=\"M2005.38 1438.47 L2279.02 1438.47 L2279.02 1334.79 L2005.38 1334.79  Z\" fill=\"#ffffff\" fill-rule=\"evenodd\" fill-opacity=\"1\"/>\n",
       "<polyline clip-path=\"url(#clip370)\" style=\"stroke:#000000; stroke-linecap:round; stroke-linejoin:round; stroke-width:4; stroke-opacity:1; fill:none\" points=\"2005.38,1438.47 2279.02,1438.47 2279.02,1334.79 2005.38,1334.79 2005.38,1438.47 \"/>\n",
       "<polyline clip-path=\"url(#clip370)\" style=\"stroke:#009af9; stroke-linecap:round; stroke-linejoin:round; stroke-width:4; stroke-opacity:1; fill:none\" points=\"2029.96,1386.63 2177.43,1386.63 \"/>\n",
       "<path clip-path=\"url(#clip370)\" d=\"M2215.85 1406.32 Q2214.05 1410.95 2212.34 1412.36 Q2210.62 1413.78 2207.75 1413.78 L2204.35 1413.78 L2204.35 1410.21 L2206.85 1410.21 Q2208.61 1410.21 2209.58 1409.38 Q2210.55 1408.54 2211.73 1405.44 L2212.5 1403.5 L2202.01 1377.99 L2206.53 1377.99 L2214.63 1398.27 L2222.73 1377.99 L2227.24 1377.99 L2215.85 1406.32 Z\" fill=\"#000000\" fill-rule=\"nonzero\" fill-opacity=\"1\" /><path clip-path=\"url(#clip370)\" d=\"M2234.53 1399.98 L2242.17 1399.98 L2242.17 1373.61 L2233.86 1375.28 L2233.86 1371.02 L2242.13 1369.35 L2246.8 1369.35 L2246.8 1399.98 L2254.44 1399.98 L2254.44 1403.91 L2234.53 1403.91 L2234.53 1399.98 Z\" fill=\"#000000\" fill-rule=\"nonzero\" fill-opacity=\"1\" /></svg>\n"
      ]
     },
     "metadata": {},
     "output_type": "display_data"
    }
   ],
   "source": [
    "#| label: fig-parametric\n",
    "#| fig-cap: \"Parametric Plots\"\n",
    "f(x) = x^2\n",
    "plot(f)"
   ]
  },
  {
   "cell_type": "code",
   "execution_count": 9,
   "id": "ff71d62f-7035-498b-b227-a911875bb908",
   "metadata": {},
   "outputs": [
    {
     "data": {
      "text/latex": [
       "$\\begin{aligned}\n",
       "c &= \\begin{cases}\n",
       "a + b & \\text{if } \\left( h < 6 \\right)\\\\\n",
       "a - b & \\text{otherwise}\n",
       "\\end{cases} = \\begin{cases}\n",
       "\\left[\n",
       "\\begin{array}{c}\n",
       "1 \\\\\n",
       "2 \\\\\n",
       "3 \\\\\n",
       "\\end{array}\n",
       "\\right] + \\left[\n",
       "\\begin{array}{c}\n",
       "4 \\\\\n",
       "5 \\\\\n",
       "7 \\\\\n",
       "\\end{array}\n",
       "\\right] & \\text{if } \\left( 12 < 6 \\right)\\\\\n",
       "\\left[\n",
       "\\begin{array}{c}\n",
       "1 \\\\\n",
       "2 \\\\\n",
       "3 \\\\\n",
       "\\end{array}\n",
       "\\right] - \\left[\n",
       "\\begin{array}{c}\n",
       "4 \\\\\n",
       "5 \\\\\n",
       "7 \\\\\n",
       "\\end{array}\n",
       "\\right] & \\text{otherwise}\n",
       "\\end{cases} = \\left[\n",
       "\\begin{array}{c}\n",
       "-3 \\\\\n",
       "-3 \\\\\n",
       "-4 \\\\\n",
       "\\end{array}\n",
       "\\right]\n",
       "\\end{aligned}$"
      ],
      "text/plain": [
       "L\"$\\begin{aligned}\n",
       "c &= \\begin{cases}\n",
       "a + b & \\text{if } \\left( h < 6 \\right)\\\\\n",
       "a - b & \\text{otherwise}\n",
       "\\end{cases} = \\begin{cases}\n",
       "\\left[\n",
       "\\begin{array}{c}\n",
       "1 \\\\\n",
       "2 \\\\\n",
       "3 \\\\\n",
       "\\end{array}\n",
       "\\right] + \\left[\n",
       "\\begin{array}{c}\n",
       "4 \\\\\n",
       "5 \\\\\n",
       "7 \\\\\n",
       "\\end{array}\n",
       "\\right] & \\text{if } \\left( 12 < 6 \\right)\\\\\n",
       "\\left[\n",
       "\\begin{array}{c}\n",
       "1 \\\\\n",
       "2 \\\\\n",
       "3 \\\\\n",
       "\\end{array}\n",
       "\\right] - \\left[\n",
       "\\begin{array}{c}\n",
       "4 \\\\\n",
       "5 \\\\\n",
       "7 \\\\\n",
       "\\end{array}\n",
       "\\right] & \\text{otherwise}\n",
       "\\end{cases} = \\left[\n",
       "\\begin{array}{c}\n",
       "-3 \\\\\n",
       "-3 \\\\\n",
       "-4 \\\\\n",
       "\\end{array}\n",
       "\\right]\n",
       "\\end{aligned}$\""
      ]
     },
     "metadata": {},
     "output_type": "display_data"
    }
   ],
   "source": [
    "a = [1;2;3]\n",
    "b = [4;5;7]\n",
    "@handcalcs begin\n",
    "c = if h<6\n",
    "        a + b\n",
    "    else\n",
    "        a - b\n",
    "    end\n",
    "end"
   ]
  },
  {
   "cell_type": "code",
   "execution_count": 10,
   "id": "6a67d4a3-d87f-4ebd-a3dd-6005e84b66d2",
   "metadata": {},
   "outputs": [],
   "source": []
  },
  {
   "cell_type": "code",
   "execution_count": 11,
   "id": "e5ed00c9-3906-485e-a3a0-6538c456a86e",
   "metadata": {},
   "outputs": [],
   "source": [
    "using Tidier, RDatasets"
   ]
  },
  {
   "cell_type": "markdown",
   "id": "c2c42d34-74c3-4a6d-a1a9-a7813d7b302f",
   "metadata": {},
   "source": [
    "## Large Dataset"
   ]
  },
  {
   "cell_type": "code",
   "execution_count": 12,
   "id": "deb64018-48a3-4915-b202-f637b19f5403",
   "metadata": {
    "tags": []
   },
   "outputs": [
    {
     "data": {
      "text/html": [
       "<div><div style = \"float: left;\"><span>4406×19 DataFrame</span></div><div style = \"float: right;\"><span style = \"font-style: italic;\">4381 rows omitted</span></div><div style = \"clear: both;\"></div></div><div class = \"data-frame\" style = \"overflow-x: scroll;\"><table class = \"data-frame\" style = \"margin-bottom: 6px;\"><thead><tr class = \"header\"><th class = \"rowNumber\" style = \"font-weight: bold; text-align: right;\">Row</th><th style = \"text-align: left;\">OFP</th><th style = \"text-align: left;\">OFNP</th><th style = \"text-align: left;\">OPP</th><th style = \"text-align: left;\">OPNP</th><th style = \"text-align: left;\">EMR</th><th style = \"text-align: left;\">Hosp</th><th style = \"text-align: left;\">NumChron</th><th style = \"text-align: left;\">AdlDiff</th><th style = \"text-align: left;\">Age</th><th style = \"text-align: left;\">Black</th><th style = \"text-align: left;\">Sex</th><th style = \"text-align: left;\">Married</th><th style = \"text-align: left;\">School</th><th style = \"text-align: left;\">FamInc</th><th style = \"text-align: left;\">Employed</th><th style = \"text-align: left;\">Privins</th><th style = \"text-align: left;\">Medicaid</th><th style = \"text-align: left;\">Region</th><th style = \"text-align: left;\">Hlth</th></tr><tr class = \"subheader headerLastRow\"><th class = \"rowNumber\" style = \"font-weight: bold; text-align: right;\"></th><th title = \"Int32\" style = \"text-align: left;\">Int32</th><th title = \"Int32\" style = \"text-align: left;\">Int32</th><th title = \"Int32\" style = \"text-align: left;\">Int32</th><th title = \"Int32\" style = \"text-align: left;\">Int32</th><th title = \"Int32\" style = \"text-align: left;\">Int32</th><th title = \"Int32\" style = \"text-align: left;\">Int32</th><th title = \"Int32\" style = \"text-align: left;\">Int32</th><th title = \"Int32\" style = \"text-align: left;\">Int32</th><th title = \"Float64\" style = \"text-align: left;\">Float64</th><th title = \"CategoricalValue{String, UInt8}\" style = \"text-align: left;\">Cat…</th><th title = \"CategoricalValue{String, UInt8}\" style = \"text-align: left;\">Cat…</th><th title = \"CategoricalValue{String, UInt8}\" style = \"text-align: left;\">Cat…</th><th title = \"Int32\" style = \"text-align: left;\">Int32</th><th title = \"Float64\" style = \"text-align: left;\">Float64</th><th title = \"CategoricalValue{String, UInt8}\" style = \"text-align: left;\">Cat…</th><th title = \"CategoricalValue{String, UInt8}\" style = \"text-align: left;\">Cat…</th><th title = \"CategoricalValue{String, UInt8}\" style = \"text-align: left;\">Cat…</th><th title = \"CategoricalValue{String, UInt8}\" style = \"text-align: left;\">Cat…</th><th title = \"CategoricalValue{String, UInt8}\" style = \"text-align: left;\">Cat…</th></tr></thead><tbody><tr><td class = \"rowNumber\" style = \"font-weight: bold; text-align: right;\">1</td><td style = \"text-align: right;\">5</td><td style = \"text-align: right;\">0</td><td style = \"text-align: right;\">0</td><td style = \"text-align: right;\">0</td><td style = \"text-align: right;\">0</td><td style = \"text-align: right;\">1</td><td style = \"text-align: right;\">2</td><td style = \"text-align: right;\">0</td><td style = \"text-align: right;\">6.9</td><td style = \"text-align: left;\">yes</td><td style = \"text-align: left;\">male</td><td style = \"text-align: left;\">yes</td><td style = \"text-align: right;\">6</td><td style = \"text-align: right;\">2.881</td><td style = \"text-align: left;\">yes</td><td style = \"text-align: left;\">yes</td><td style = \"text-align: left;\">no</td><td style = \"text-align: left;\">other</td><td style = \"text-align: left;\">other</td></tr><tr><td class = \"rowNumber\" style = \"font-weight: bold; text-align: right;\">2</td><td style = \"text-align: right;\">1</td><td style = \"text-align: right;\">0</td><td style = \"text-align: right;\">2</td><td style = \"text-align: right;\">0</td><td style = \"text-align: right;\">2</td><td style = \"text-align: right;\">0</td><td style = \"text-align: right;\">2</td><td style = \"text-align: right;\">0</td><td style = \"text-align: right;\">7.4</td><td style = \"text-align: left;\">no</td><td style = \"text-align: left;\">female</td><td style = \"text-align: left;\">yes</td><td style = \"text-align: right;\">10</td><td style = \"text-align: right;\">2.7478</td><td style = \"text-align: left;\">no</td><td style = \"text-align: left;\">yes</td><td style = \"text-align: left;\">no</td><td style = \"text-align: left;\">other</td><td style = \"text-align: left;\">other</td></tr><tr><td class = \"rowNumber\" style = \"font-weight: bold; text-align: right;\">3</td><td style = \"text-align: right;\">13</td><td style = \"text-align: right;\">0</td><td style = \"text-align: right;\">0</td><td style = \"text-align: right;\">0</td><td style = \"text-align: right;\">3</td><td style = \"text-align: right;\">3</td><td style = \"text-align: right;\">4</td><td style = \"text-align: right;\">1</td><td style = \"text-align: right;\">6.6</td><td style = \"text-align: left;\">yes</td><td style = \"text-align: left;\">female</td><td style = \"text-align: left;\">no</td><td style = \"text-align: right;\">10</td><td style = \"text-align: right;\">0.6532</td><td style = \"text-align: left;\">no</td><td style = \"text-align: left;\">no</td><td style = \"text-align: left;\">yes</td><td style = \"text-align: left;\">other</td><td style = \"text-align: left;\">poor</td></tr><tr><td class = \"rowNumber\" style = \"font-weight: bold; text-align: right;\">4</td><td style = \"text-align: right;\">16</td><td style = \"text-align: right;\">0</td><td style = \"text-align: right;\">5</td><td style = \"text-align: right;\">0</td><td style = \"text-align: right;\">1</td><td style = \"text-align: right;\">1</td><td style = \"text-align: right;\">2</td><td style = \"text-align: right;\">1</td><td style = \"text-align: right;\">7.6</td><td style = \"text-align: left;\">no</td><td style = \"text-align: left;\">male</td><td style = \"text-align: left;\">yes</td><td style = \"text-align: right;\">3</td><td style = \"text-align: right;\">0.6588</td><td style = \"text-align: left;\">no</td><td style = \"text-align: left;\">yes</td><td style = \"text-align: left;\">no</td><td style = \"text-align: left;\">other</td><td style = \"text-align: left;\">poor</td></tr><tr><td class = \"rowNumber\" style = \"font-weight: bold; text-align: right;\">5</td><td style = \"text-align: right;\">3</td><td style = \"text-align: right;\">0</td><td style = \"text-align: right;\">0</td><td style = \"text-align: right;\">0</td><td style = \"text-align: right;\">0</td><td style = \"text-align: right;\">0</td><td style = \"text-align: right;\">2</td><td style = \"text-align: right;\">1</td><td style = \"text-align: right;\">7.9</td><td style = \"text-align: left;\">no</td><td style = \"text-align: left;\">female</td><td style = \"text-align: left;\">yes</td><td style = \"text-align: right;\">6</td><td style = \"text-align: right;\">0.6588</td><td style = \"text-align: left;\">no</td><td style = \"text-align: left;\">yes</td><td style = \"text-align: left;\">no</td><td style = \"text-align: left;\">other</td><td style = \"text-align: left;\">other</td></tr><tr><td class = \"rowNumber\" style = \"font-weight: bold; text-align: right;\">6</td><td style = \"text-align: right;\">17</td><td style = \"text-align: right;\">0</td><td style = \"text-align: right;\">0</td><td style = \"text-align: right;\">0</td><td style = \"text-align: right;\">0</td><td style = \"text-align: right;\">0</td><td style = \"text-align: right;\">5</td><td style = \"text-align: right;\">1</td><td style = \"text-align: right;\">6.6</td><td style = \"text-align: left;\">no</td><td style = \"text-align: left;\">female</td><td style = \"text-align: left;\">no</td><td style = \"text-align: right;\">7</td><td style = \"text-align: right;\">0.3301</td><td style = \"text-align: left;\">no</td><td style = \"text-align: left;\">no</td><td style = \"text-align: left;\">yes</td><td style = \"text-align: left;\">other</td><td style = \"text-align: left;\">poor</td></tr><tr><td class = \"rowNumber\" style = \"font-weight: bold; text-align: right;\">7</td><td style = \"text-align: right;\">9</td><td style = \"text-align: right;\">0</td><td style = \"text-align: right;\">0</td><td style = \"text-align: right;\">0</td><td style = \"text-align: right;\">0</td><td style = \"text-align: right;\">0</td><td style = \"text-align: right;\">0</td><td style = \"text-align: right;\">0</td><td style = \"text-align: right;\">7.5</td><td style = \"text-align: left;\">no</td><td style = \"text-align: left;\">female</td><td style = \"text-align: left;\">no</td><td style = \"text-align: right;\">8</td><td style = \"text-align: right;\">0.828</td><td style = \"text-align: left;\">no</td><td style = \"text-align: left;\">yes</td><td style = \"text-align: left;\">no</td><td style = \"text-align: left;\">midwest</td><td style = \"text-align: left;\">other</td></tr><tr><td class = \"rowNumber\" style = \"font-weight: bold; text-align: right;\">8</td><td style = \"text-align: right;\">3</td><td style = \"text-align: right;\">0</td><td style = \"text-align: right;\">0</td><td style = \"text-align: right;\">0</td><td style = \"text-align: right;\">0</td><td style = \"text-align: right;\">0</td><td style = \"text-align: right;\">0</td><td style = \"text-align: right;\">0</td><td style = \"text-align: right;\">8.7</td><td style = \"text-align: left;\">no</td><td style = \"text-align: left;\">female</td><td style = \"text-align: left;\">no</td><td style = \"text-align: right;\">8</td><td style = \"text-align: right;\">3.0456</td><td style = \"text-align: left;\">no</td><td style = \"text-align: left;\">yes</td><td style = \"text-align: left;\">no</td><td style = \"text-align: left;\">midwest</td><td style = \"text-align: left;\">other</td></tr><tr><td class = \"rowNumber\" style = \"font-weight: bold; text-align: right;\">9</td><td style = \"text-align: right;\">1</td><td style = \"text-align: right;\">0</td><td style = \"text-align: right;\">0</td><td style = \"text-align: right;\">0</td><td style = \"text-align: right;\">0</td><td style = \"text-align: right;\">0</td><td style = \"text-align: right;\">0</td><td style = \"text-align: right;\">0</td><td style = \"text-align: right;\">7.3</td><td style = \"text-align: left;\">no</td><td style = \"text-align: left;\">female</td><td style = \"text-align: left;\">no</td><td style = \"text-align: right;\">8</td><td style = \"text-align: right;\">3.0456</td><td style = \"text-align: left;\">no</td><td style = \"text-align: left;\">yes</td><td style = \"text-align: left;\">no</td><td style = \"text-align: left;\">midwest</td><td style = \"text-align: left;\">other</td></tr><tr><td class = \"rowNumber\" style = \"font-weight: bold; text-align: right;\">10</td><td style = \"text-align: right;\">0</td><td style = \"text-align: right;\">0</td><td style = \"text-align: right;\">0</td><td style = \"text-align: right;\">0</td><td style = \"text-align: right;\">0</td><td style = \"text-align: right;\">0</td><td style = \"text-align: right;\">0</td><td style = \"text-align: right;\">0</td><td style = \"text-align: right;\">7.8</td><td style = \"text-align: left;\">no</td><td style = \"text-align: left;\">female</td><td style = \"text-align: left;\">no</td><td style = \"text-align: right;\">8</td><td style = \"text-align: right;\">3.0456</td><td style = \"text-align: left;\">no</td><td style = \"text-align: left;\">yes</td><td style = \"text-align: left;\">no</td><td style = \"text-align: left;\">midwest</td><td style = \"text-align: left;\">other</td></tr><tr><td class = \"rowNumber\" style = \"font-weight: bold; text-align: right;\">11</td><td style = \"text-align: right;\">0</td><td style = \"text-align: right;\">0</td><td style = \"text-align: right;\">0</td><td style = \"text-align: right;\">0</td><td style = \"text-align: right;\">0</td><td style = \"text-align: right;\">0</td><td style = \"text-align: right;\">1</td><td style = \"text-align: right;\">0</td><td style = \"text-align: right;\">6.6</td><td style = \"text-align: left;\">no</td><td style = \"text-align: left;\">male</td><td style = \"text-align: left;\">yes</td><td style = \"text-align: right;\">8</td><td style = \"text-align: right;\">2.9498</td><td style = \"text-align: left;\">yes</td><td style = \"text-align: left;\">yes</td><td style = \"text-align: left;\">no</td><td style = \"text-align: left;\">midwest</td><td style = \"text-align: left;\">other</td></tr><tr><td class = \"rowNumber\" style = \"font-weight: bold; text-align: right;\">12</td><td style = \"text-align: right;\">44</td><td style = \"text-align: right;\">5</td><td style = \"text-align: right;\">2</td><td style = \"text-align: right;\">0</td><td style = \"text-align: right;\">0</td><td style = \"text-align: right;\">1</td><td style = \"text-align: right;\">5</td><td style = \"text-align: right;\">1</td><td style = \"text-align: right;\">6.9</td><td style = \"text-align: left;\">no</td><td style = \"text-align: left;\">female</td><td style = \"text-align: left;\">yes</td><td style = \"text-align: right;\">15</td><td style = \"text-align: right;\">2.9498</td><td style = \"text-align: left;\">no</td><td style = \"text-align: left;\">yes</td><td style = \"text-align: left;\">no</td><td style = \"text-align: left;\">midwest</td><td style = \"text-align: left;\">other</td></tr><tr><td class = \"rowNumber\" style = \"font-weight: bold; text-align: right;\">13</td><td style = \"text-align: right;\">2</td><td style = \"text-align: right;\">0</td><td style = \"text-align: right;\">0</td><td style = \"text-align: right;\">0</td><td style = \"text-align: right;\">0</td><td style = \"text-align: right;\">0</td><td style = \"text-align: right;\">1</td><td style = \"text-align: right;\">1</td><td style = \"text-align: right;\">8.4</td><td style = \"text-align: left;\">no</td><td style = \"text-align: left;\">female</td><td style = \"text-align: left;\">no</td><td style = \"text-align: right;\">8</td><td style = \"text-align: right;\">0.8988</td><td style = \"text-align: left;\">no</td><td style = \"text-align: left;\">no</td><td style = \"text-align: left;\">no</td><td style = \"text-align: left;\">midwest</td><td style = \"text-align: left;\">other</td></tr><tr><td style = \"text-align: right;\">&vellip;</td><td style = \"text-align: right;\">&vellip;</td><td style = \"text-align: right;\">&vellip;</td><td style = \"text-align: right;\">&vellip;</td><td style = \"text-align: right;\">&vellip;</td><td style = \"text-align: right;\">&vellip;</td><td style = \"text-align: right;\">&vellip;</td><td style = \"text-align: right;\">&vellip;</td><td style = \"text-align: right;\">&vellip;</td><td style = \"text-align: right;\">&vellip;</td><td style = \"text-align: right;\">&vellip;</td><td style = \"text-align: right;\">&vellip;</td><td style = \"text-align: right;\">&vellip;</td><td style = \"text-align: right;\">&vellip;</td><td style = \"text-align: right;\">&vellip;</td><td style = \"text-align: right;\">&vellip;</td><td style = \"text-align: right;\">&vellip;</td><td style = \"text-align: right;\">&vellip;</td><td style = \"text-align: right;\">&vellip;</td><td style = \"text-align: right;\">&vellip;</td></tr><tr><td class = \"rowNumber\" style = \"font-weight: bold; text-align: right;\">4395</td><td style = \"text-align: right;\">2</td><td style = \"text-align: right;\">0</td><td style = \"text-align: right;\">0</td><td style = \"text-align: right;\">0</td><td style = \"text-align: right;\">0</td><td style = \"text-align: right;\">0</td><td style = \"text-align: right;\">0</td><td style = \"text-align: right;\">0</td><td style = \"text-align: right;\">8.8</td><td style = \"text-align: left;\">no</td><td style = \"text-align: left;\">female</td><td style = \"text-align: left;\">no</td><td style = \"text-align: right;\">12</td><td style = \"text-align: right;\">1.06</td><td style = \"text-align: left;\">no</td><td style = \"text-align: left;\">yes</td><td style = \"text-align: left;\">no</td><td style = \"text-align: left;\">other</td><td style = \"text-align: left;\">excellent</td></tr><tr><td class = \"rowNumber\" style = \"font-weight: bold; text-align: right;\">4396</td><td style = \"text-align: right;\">1</td><td style = \"text-align: right;\">0</td><td style = \"text-align: right;\">0</td><td style = \"text-align: right;\">0</td><td style = \"text-align: right;\">0</td><td style = \"text-align: right;\">0</td><td style = \"text-align: right;\">3</td><td style = \"text-align: right;\">1</td><td style = \"text-align: right;\">8.2</td><td style = \"text-align: left;\">no</td><td style = \"text-align: left;\">female</td><td style = \"text-align: left;\">no</td><td style = \"text-align: right;\">16</td><td style = \"text-align: right;\">3.47</td><td style = \"text-align: left;\">no</td><td style = \"text-align: left;\">no</td><td style = \"text-align: left;\">no</td><td style = \"text-align: left;\">other</td><td style = \"text-align: left;\">poor</td></tr><tr><td class = \"rowNumber\" style = \"font-weight: bold; text-align: right;\">4397</td><td style = \"text-align: right;\">2</td><td style = \"text-align: right;\">0</td><td style = \"text-align: right;\">0</td><td style = \"text-align: right;\">0</td><td style = \"text-align: right;\">1</td><td style = \"text-align: right;\">0</td><td style = \"text-align: right;\">0</td><td style = \"text-align: right;\">0</td><td style = \"text-align: right;\">7.1</td><td style = \"text-align: left;\">no</td><td style = \"text-align: left;\">male</td><td style = \"text-align: left;\">yes</td><td style = \"text-align: right;\">12</td><td style = \"text-align: right;\">2.22</td><td style = \"text-align: left;\">yes</td><td style = \"text-align: left;\">yes</td><td style = \"text-align: left;\">no</td><td style = \"text-align: left;\">other</td><td style = \"text-align: left;\">other</td></tr><tr><td class = \"rowNumber\" style = \"font-weight: bold; text-align: right;\">4398</td><td style = \"text-align: right;\">2</td><td style = \"text-align: right;\">0</td><td style = \"text-align: right;\">0</td><td style = \"text-align: right;\">0</td><td style = \"text-align: right;\">0</td><td style = \"text-align: right;\">0</td><td style = \"text-align: right;\">1</td><td style = \"text-align: right;\">0</td><td style = \"text-align: right;\">7.0</td><td style = \"text-align: left;\">no</td><td style = \"text-align: left;\">female</td><td style = \"text-align: left;\">yes</td><td style = \"text-align: right;\">12</td><td style = \"text-align: right;\">2.22</td><td style = \"text-align: left;\">no</td><td style = \"text-align: left;\">yes</td><td style = \"text-align: left;\">no</td><td style = \"text-align: left;\">other</td><td style = \"text-align: left;\">other</td></tr><tr><td class = \"rowNumber\" style = \"font-weight: bold; text-align: right;\">4399</td><td style = \"text-align: right;\">11</td><td style = \"text-align: right;\">0</td><td style = \"text-align: right;\">1</td><td style = \"text-align: right;\">0</td><td style = \"text-align: right;\">0</td><td style = \"text-align: right;\">1</td><td style = \"text-align: right;\">2</td><td style = \"text-align: right;\">1</td><td style = \"text-align: right;\">8.4</td><td style = \"text-align: left;\">no</td><td style = \"text-align: left;\">male</td><td style = \"text-align: left;\">yes</td><td style = \"text-align: right;\">4</td><td style = \"text-align: right;\">1.9539</td><td style = \"text-align: left;\">no</td><td style = \"text-align: left;\">yes</td><td style = \"text-align: left;\">no</td><td style = \"text-align: left;\">other</td><td style = \"text-align: left;\">other</td></tr><tr><td class = \"rowNumber\" style = \"font-weight: bold; text-align: right;\">4400</td><td style = \"text-align: right;\">2</td><td style = \"text-align: right;\">0</td><td style = \"text-align: right;\">0</td><td style = \"text-align: right;\">0</td><td style = \"text-align: right;\">0</td><td style = \"text-align: right;\">0</td><td style = \"text-align: right;\">1</td><td style = \"text-align: right;\">0</td><td style = \"text-align: right;\">7.6</td><td style = \"text-align: left;\">no</td><td style = \"text-align: left;\">female</td><td style = \"text-align: left;\">yes</td><td style = \"text-align: right;\">8</td><td style = \"text-align: right;\">1.9539</td><td style = \"text-align: left;\">no</td><td style = \"text-align: left;\">yes</td><td style = \"text-align: left;\">no</td><td style = \"text-align: left;\">other</td><td style = \"text-align: left;\">other</td></tr><tr><td class = \"rowNumber\" style = \"font-weight: bold; text-align: right;\">4401</td><td style = \"text-align: right;\">12</td><td style = \"text-align: right;\">4</td><td style = \"text-align: right;\">1</td><td style = \"text-align: right;\">0</td><td style = \"text-align: right;\">0</td><td style = \"text-align: right;\">0</td><td style = \"text-align: right;\">3</td><td style = \"text-align: right;\">0</td><td style = \"text-align: right;\">8.2</td><td style = \"text-align: left;\">no</td><td style = \"text-align: left;\">male</td><td style = \"text-align: left;\">yes</td><td style = \"text-align: right;\">7</td><td style = \"text-align: right;\">2.2497</td><td style = \"text-align: left;\">no</td><td style = \"text-align: left;\">yes</td><td style = \"text-align: left;\">no</td><td style = \"text-align: left;\">other</td><td style = \"text-align: left;\">other</td></tr><tr><td class = \"rowNumber\" style = \"font-weight: bold; text-align: right;\">4402</td><td style = \"text-align: right;\">11</td><td style = \"text-align: right;\">0</td><td style = \"text-align: right;\">0</td><td style = \"text-align: right;\">0</td><td style = \"text-align: right;\">0</td><td style = \"text-align: right;\">0</td><td style = \"text-align: right;\">0</td><td style = \"text-align: right;\">0</td><td style = \"text-align: right;\">8.4</td><td style = \"text-align: left;\">no</td><td style = \"text-align: left;\">female</td><td style = \"text-align: left;\">yes</td><td style = \"text-align: right;\">8</td><td style = \"text-align: right;\">2.2497</td><td style = \"text-align: left;\">no</td><td style = \"text-align: left;\">yes</td><td style = \"text-align: left;\">no</td><td style = \"text-align: left;\">other</td><td style = \"text-align: left;\">other</td></tr><tr><td class = \"rowNumber\" style = \"font-weight: bold; text-align: right;\">4403</td><td style = \"text-align: right;\">12</td><td style = \"text-align: right;\">0</td><td style = \"text-align: right;\">0</td><td style = \"text-align: right;\">0</td><td style = \"text-align: right;\">0</td><td style = \"text-align: right;\">0</td><td style = \"text-align: right;\">2</td><td style = \"text-align: right;\">0</td><td style = \"text-align: right;\">7.8</td><td style = \"text-align: left;\">no</td><td style = \"text-align: left;\">female</td><td style = \"text-align: left;\">no</td><td style = \"text-align: right;\">11</td><td style = \"text-align: right;\">5.8132</td><td style = \"text-align: left;\">no</td><td style = \"text-align: left;\">yes</td><td style = \"text-align: left;\">no</td><td style = \"text-align: left;\">other</td><td style = \"text-align: left;\">other</td></tr><tr><td class = \"rowNumber\" style = \"font-weight: bold; text-align: right;\">4404</td><td style = \"text-align: right;\">10</td><td style = \"text-align: right;\">0</td><td style = \"text-align: right;\">20</td><td style = \"text-align: right;\">0</td><td style = \"text-align: right;\">1</td><td style = \"text-align: right;\">1</td><td style = \"text-align: right;\">5</td><td style = \"text-align: right;\">0</td><td style = \"text-align: right;\">7.3</td><td style = \"text-align: left;\">no</td><td style = \"text-align: left;\">male</td><td style = \"text-align: left;\">yes</td><td style = \"text-align: right;\">12</td><td style = \"text-align: right;\">3.87792</td><td style = \"text-align: left;\">no</td><td style = \"text-align: left;\">yes</td><td style = \"text-align: left;\">no</td><td style = \"text-align: left;\">other</td><td style = \"text-align: left;\">other</td></tr><tr><td class = \"rowNumber\" style = \"font-weight: bold; text-align: right;\">4405</td><td style = \"text-align: right;\">16</td><td style = \"text-align: right;\">1</td><td style = \"text-align: right;\">0</td><td style = \"text-align: right;\">0</td><td style = \"text-align: right;\">0</td><td style = \"text-align: right;\">0</td><td style = \"text-align: right;\">0</td><td style = \"text-align: right;\">0</td><td style = \"text-align: right;\">6.6</td><td style = \"text-align: left;\">no</td><td style = \"text-align: left;\">female</td><td style = \"text-align: left;\">yes</td><td style = \"text-align: right;\">12</td><td style = \"text-align: right;\">3.87792</td><td style = \"text-align: left;\">no</td><td style = \"text-align: left;\">yes</td><td style = \"text-align: left;\">no</td><td style = \"text-align: left;\">other</td><td style = \"text-align: left;\">other</td></tr><tr><td class = \"rowNumber\" style = \"font-weight: bold; text-align: right;\">4406</td><td style = \"text-align: right;\">0</td><td style = \"text-align: right;\">0</td><td style = \"text-align: right;\">0</td><td style = \"text-align: right;\">0</td><td style = \"text-align: right;\">0</td><td style = \"text-align: right;\">0</td><td style = \"text-align: right;\">0</td><td style = \"text-align: right;\">0</td><td style = \"text-align: right;\">7.1</td><td style = \"text-align: left;\">no</td><td style = \"text-align: left;\">male</td><td style = \"text-align: left;\">yes</td><td style = \"text-align: right;\">0</td><td style = \"text-align: right;\">6.5968</td><td style = \"text-align: left;\">yes</td><td style = \"text-align: left;\">no</td><td style = \"text-align: left;\">no</td><td style = \"text-align: left;\">other</td><td style = \"text-align: left;\">excellent</td></tr></tbody></table></div>"
      ],
      "text/latex": [
       "\\begin{tabular}{r|cccccccccccc}\n",
       "\t& OFP & OFNP & OPP & OPNP & EMR & Hosp & NumChron & AdlDiff & Age & Black & Sex & \\\\\n",
       "\t\\hline\n",
       "\t& Int32 & Int32 & Int32 & Int32 & Int32 & Int32 & Int32 & Int32 & Float64 & Cat… & Cat… & \\\\\n",
       "\t\\hline\n",
       "\t1 & 5 & 0 & 0 & 0 & 0 & 1 & 2 & 0 & 6.9 & yes & male & $\\dots$ \\\\\n",
       "\t2 & 1 & 0 & 2 & 0 & 2 & 0 & 2 & 0 & 7.4 & no & female & $\\dots$ \\\\\n",
       "\t3 & 13 & 0 & 0 & 0 & 3 & 3 & 4 & 1 & 6.6 & yes & female & $\\dots$ \\\\\n",
       "\t4 & 16 & 0 & 5 & 0 & 1 & 1 & 2 & 1 & 7.6 & no & male & $\\dots$ \\\\\n",
       "\t5 & 3 & 0 & 0 & 0 & 0 & 0 & 2 & 1 & 7.9 & no & female & $\\dots$ \\\\\n",
       "\t6 & 17 & 0 & 0 & 0 & 0 & 0 & 5 & 1 & 6.6 & no & female & $\\dots$ \\\\\n",
       "\t7 & 9 & 0 & 0 & 0 & 0 & 0 & 0 & 0 & 7.5 & no & female & $\\dots$ \\\\\n",
       "\t8 & 3 & 0 & 0 & 0 & 0 & 0 & 0 & 0 & 8.7 & no & female & $\\dots$ \\\\\n",
       "\t9 & 1 & 0 & 0 & 0 & 0 & 0 & 0 & 0 & 7.3 & no & female & $\\dots$ \\\\\n",
       "\t10 & 0 & 0 & 0 & 0 & 0 & 0 & 0 & 0 & 7.8 & no & female & $\\dots$ \\\\\n",
       "\t11 & 0 & 0 & 0 & 0 & 0 & 0 & 1 & 0 & 6.6 & no & male & $\\dots$ \\\\\n",
       "\t12 & 44 & 5 & 2 & 0 & 0 & 1 & 5 & 1 & 6.9 & no & female & $\\dots$ \\\\\n",
       "\t13 & 2 & 0 & 0 & 0 & 0 & 0 & 1 & 1 & 8.4 & no & female & $\\dots$ \\\\\n",
       "\t14 & 1 & 0 & 0 & 0 & 0 & 0 & 1 & 1 & 8.1 & no & female & $\\dots$ \\\\\n",
       "\t15 & 19 & 0 & 1 & 2 & 0 & 1 & 1 & 0 & 7.8 & no & female & $\\dots$ \\\\\n",
       "\t16 & 19 & 0 & 0 & 0 & 0 & 0 & 0 & 0 & 7.6 & no & female & $\\dots$ \\\\\n",
       "\t17 & 0 & 0 & 0 & 0 & 0 & 0 & 1 & 1 & 8.3 & no & male & $\\dots$ \\\\\n",
       "\t18 & 3 & 9 & 1 & 0 & 0 & 0 & 2 & 1 & 8.0 & no & female & $\\dots$ \\\\\n",
       "\t19 & 2 & 0 & 0 & 0 & 0 & 0 & 3 & 0 & 7.3 & yes & male & $\\dots$ \\\\\n",
       "\t20 & 12 & 0 & 2 & 0 & 0 & 0 & 4 & 0 & 7.4 & no & male & $\\dots$ \\\\\n",
       "\t21 & 2 & 0 & 1 & 0 & 1 & 2 & 1 & 0 & 6.7 & no & male & $\\dots$ \\\\\n",
       "\t22 & 3 & 0 & 1 & 0 & 0 & 0 & 2 & 0 & 7.3 & no & male & $\\dots$ \\\\\n",
       "\t23 & 1 & 0 & 0 & 0 & 0 & 0 & 1 & 0 & 7.5 & no & female & $\\dots$ \\\\\n",
       "\t24 & 1 & 0 & 0 & 0 & 0 & 0 & 2 & 0 & 7.1 & no & female & $\\dots$ \\\\\n",
       "\t$\\dots$ & $\\dots$ & $\\dots$ & $\\dots$ & $\\dots$ & $\\dots$ & $\\dots$ & $\\dots$ & $\\dots$ & $\\dots$ & $\\dots$ & $\\dots$ &  \\\\\n",
       "\\end{tabular}\n"
      ],
      "text/plain": [
       "\u001b[1m4406×19 DataFrame\u001b[0m\n",
       "\u001b[1m  Row \u001b[0m│\u001b[1m OFP   \u001b[0m\u001b[1m OFNP  \u001b[0m\u001b[1m OPP   \u001b[0m\u001b[1m OPNP  \u001b[0m\u001b[1m EMR   \u001b[0m\u001b[1m Hosp  \u001b[0m\u001b[1m NumChron \u001b[0m\u001b[1m AdlDiff \u001b[0m\u001b[1m Age     \u001b[0m\u001b[1m \u001b[0m ⋯\n",
       "      │\u001b[90m Int32 \u001b[0m\u001b[90m Int32 \u001b[0m\u001b[90m Int32 \u001b[0m\u001b[90m Int32 \u001b[0m\u001b[90m Int32 \u001b[0m\u001b[90m Int32 \u001b[0m\u001b[90m Int32    \u001b[0m\u001b[90m Int32   \u001b[0m\u001b[90m Float64 \u001b[0m\u001b[90m \u001b[0m ⋯\n",
       "──────┼─────────────────────────────────────────────────────────────────────────\n",
       "    1 │     5      0      0      0      0      1         2        0      6.9   ⋯\n",
       "    2 │     1      0      2      0      2      0         2        0      7.4\n",
       "    3 │    13      0      0      0      3      3         4        1      6.6\n",
       "    4 │    16      0      5      0      1      1         2        1      7.6\n",
       "    5 │     3      0      0      0      0      0         2        1      7.9   ⋯\n",
       "    6 │    17      0      0      0      0      0         5        1      6.6\n",
       "    7 │     9      0      0      0      0      0         0        0      7.5\n",
       "    8 │     3      0      0      0      0      0         0        0      8.7\n",
       "  ⋮   │   ⋮      ⋮      ⋮      ⋮      ⋮      ⋮       ⋮         ⋮        ⋮      ⋱\n",
       " 4400 │     2      0      0      0      0      0         1        0      7.6   ⋯\n",
       " 4401 │    12      4      1      0      0      0         3        0      8.2\n",
       " 4402 │    11      0      0      0      0      0         0        0      8.4\n",
       " 4403 │    12      0      0      0      0      0         2        0      7.8\n",
       " 4404 │    10      0     20      0      1      1         5        0      7.3   ⋯\n",
       " 4405 │    16      1      0      0      0      0         0        0      6.6\n",
       " 4406 │     0      0      0      0      0      0         0        0      7.1\n",
       "\u001b[36m                                                10 columns and 4391 rows omitted\u001b[0m"
      ]
     },
     "metadata": {},
     "output_type": "display_data"
    }
   ],
   "source": [
    "ofp = dataset(\"Ecdat\", \"OFP\")"
   ]
  },
  {
   "cell_type": "markdown",
   "id": "b78ec6e1-c33a-42b9-b007-796a78e97531",
   "metadata": {},
   "source": [
    "## Small Dataset"
   ]
  },
  {
   "cell_type": "code",
   "execution_count": 13,
   "id": "fb33a2f8-a9ac-4afa-8148-cbfa728eb874",
   "metadata": {
    "tags": []
   },
   "outputs": [
    {
     "data": {
      "text/html": [
       "<div><div style = \"float: left;\"><span>4×2 DataFrame</span></div><div style = \"clear: both;\"></div></div><div class = \"data-frame\" style = \"overflow-x: scroll;\"><table class = \"data-frame\" style = \"margin-bottom: 6px;\"><thead><tr class = \"header\"><th class = \"rowNumber\" style = \"font-weight: bold; text-align: right;\">Row</th><th style = \"text-align: left;\">region</th><th style = \"text-align: left;\">mean_age</th></tr><tr class = \"subheader headerLastRow\"><th class = \"rowNumber\" style = \"font-weight: bold; text-align: right;\"></th><th title = \"CategoricalValue{String, UInt8}\" style = \"text-align: left;\">Cat…</th><th title = \"Float64\" style = \"text-align: left;\">Float64</th></tr></thead><tbody><tr><td class = \"rowNumber\" style = \"font-weight: bold; text-align: right;\">1</td><td style = \"text-align: left;\">other</td><td style = \"text-align: right;\">73.987</td></tr><tr><td class = \"rowNumber\" style = \"font-weight: bold; text-align: right;\">2</td><td style = \"text-align: left;\">midwest</td><td style = \"text-align: right;\">74.0769</td></tr><tr><td class = \"rowNumber\" style = \"font-weight: bold; text-align: right;\">3</td><td style = \"text-align: left;\">noreast</td><td style = \"text-align: right;\">73.9343</td></tr><tr><td class = \"rowNumber\" style = \"font-weight: bold; text-align: right;\">4</td><td style = \"text-align: left;\">west</td><td style = \"text-align: right;\">74.1165</td></tr></tbody></table></div>"
      ],
      "text/latex": [
       "\\begin{tabular}{r|cc}\n",
       "\t& region & mean\\_age\\\\\n",
       "\t\\hline\n",
       "\t& Cat… & Float64\\\\\n",
       "\t\\hline\n",
       "\t1 & other & 73.987 \\\\\n",
       "\t2 & midwest & 74.0769 \\\\\n",
       "\t3 & noreast & 73.9343 \\\\\n",
       "\t4 & west & 74.1165 \\\\\n",
       "\\end{tabular}\n"
      ],
      "text/plain": [
       "\u001b[1m4×2 DataFrame\u001b[0m\n",
       "\u001b[1m Row \u001b[0m│\u001b[1m region  \u001b[0m\u001b[1m mean_age \u001b[0m\n",
       "     │\u001b[90m Cat…    \u001b[0m\u001b[90m Float64  \u001b[0m\n",
       "─────┼───────────────────\n",
       "   1 │ other     73.987\n",
       "   2 │ midwest   74.0769\n",
       "   3 │ noreast   73.9343\n",
       "   4 │ west      74.1165"
      ]
     },
     "metadata": {},
     "output_type": "display_data"
    }
   ],
   "source": [
    "ofp = @clean_names(ofp)\n",
    "ofp_mean = @chain ofp begin\n",
    "   @group_by(region)\n",
    "   @summarize(mean_age = mean(age*10))\n",
    "end"
   ]
  },
  {
   "cell_type": "code",
   "execution_count": 14,
   "id": "ef80f05f-8fe0-486e-8fb8-72f248cd67c3",
   "metadata": {
    "tags": []
   },
   "outputs": [],
   "source": [
    "using PrettyTables"
   ]
  },
  {
   "cell_type": "code",
   "execution_count": 15,
   "id": "fd44f931-69a5-4993-bd98-5b32aeaf37b1",
   "metadata": {
    "tags": []
   },
   "outputs": [
    {
     "name": "stdout",
     "output_type": "stream",
     "text": [
      "┌─────────────────────────────────┬──────────┐\n",
      "│\u001b[1m                          region \u001b[0m│\u001b[1m mean_age \u001b[0m│\n",
      "│\u001b[90m CategoricalValue{String, UInt8} \u001b[0m│\u001b[90m  Float64 \u001b[0m│\n",
      "├─────────────────────────────────┼──────────┤\n",
      "│                           other │   73.987 │\n",
      "│                         midwest │  74.0769 │\n",
      "│                         noreast │  73.9343 │\n",
      "│                            west │  74.1165 │\n",
      "└─────────────────────────────────┴──────────┘\n"
     ]
    }
   ],
   "source": [
    "pretty_table(ofp_mean)"
   ]
  }
 ],
 "metadata": {
  "kernelspec": {
   "display_name": "Julia 1.10.2",
   "language": "julia",
   "name": "julia-1.10"
  },
  "language_info": {
   "file_extension": ".jl",
   "mimetype": "application/julia",
   "name": "julia",
   "version": "1.10.2"
  }
 },
 "nbformat": 4,
 "nbformat_minor": 5
}
