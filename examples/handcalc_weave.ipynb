{
 "cells": [
  {
   "cell_type": "code",
   "execution_count": 12,
   "id": "a4a67a02-024b-4eb3-9848-a5990783dd62",
   "metadata": {},
   "outputs": [],
   "source": [
    "using Handcalcs\n",
    "using Latexify, LaTeXStrings"
   ]
  },
  {
   "cell_type": "code",
   "execution_count": 13,
   "id": "b3609683-6db8-41f5-a74b-92ac170e739f",
   "metadata": {},
   "outputs": [],
   "source": [
    "a = 3\n",
    "b = 4;"
   ]
  },
  {
   "cell_type": "code",
   "execution_count": 19,
   "id": "fc6ebf41-290b-43e6-89cd-3a0039ee2d02",
   "metadata": {},
   "outputs": [
    {
     "data": {
      "text/latex": [
       "$x = 2$"
      ],
      "text/plain": [
       "L\"$x = 2$\""
      ]
     },
     "execution_count": 19,
     "metadata": {},
     "output_type": "execute_result"
    }
   ],
   "source": [
    "h = latexify(\"x = 2\")"
   ]
  },
  {
   "cell_type": "code",
   "execution_count": 25,
   "id": "09243d42-2743-471f-b113-8334b8928af3",
   "metadata": {},
   "outputs": [
    {
     "data": {
      "text/latex": [
       "\\begin{align}\n",
       "x =& 4 - 5 \\\\\n",
       "y =& 5\n",
       "\\end{align}\n"
      ],
      "text/plain": [
       "L\"\\begin{align}\n",
       "x =& 4 - 5 \\\\\n",
       "y =& 5\n",
       "\\end{align}\n",
       "\""
      ]
     },
     "execution_count": 25,
     "metadata": {},
     "output_type": "execute_result"
    }
   ],
   "source": [
    "my_string = [\"x = 4 - 5\", \"y = 5\"]\n",
    "g = latexify(my_string; env=:align)"
   ]
  },
  {
   "cell_type": "code",
   "execution_count": 38,
   "id": "ba713849-1b00-414e-b448-e450741ae209",
   "metadata": {},
   "outputs": [
    {
     "data": {
      "text/latex": [
       "\\begin{align}\n",
       "x &= 4 - 5 \n",
       "\\\\[10pt]\n",
       "y &= 5\n",
       "\\end{align}"
      ],
      "text/plain": [
       "L\"\\begin{align}\n",
       "x &= 4 - 5 \n",
       "\\\\[10pt]\n",
       "y &= 5\n",
       "\\end{align}\""
      ]
     },
     "execution_count": 38,
     "metadata": {},
     "output_type": "execute_result"
    }
   ],
   "source": [
    "LaTeXString(\"\\\\begin{align}\n",
    "x &= 4 - 5 \n",
    "\\\\\\\\[10pt]\n",
    "y &= 5\n",
    "\\\\end{align}\")"
   ]
  },
  {
   "cell_type": "code",
   "execution_count": 50,
   "id": "5b903471-eb12-41d9-b184-be51bac8d23b",
   "metadata": {},
   "outputs": [
    {
     "data": {
      "text/latex": [
       "\\begin{align*}\n",
       "a &= 1&\n",
       "b &= 2&\n",
       "c &= 3\n",
       "\\\\[5pt]\n",
       "x &= 3\\;\\text{  }(\\text{hello})&\n",
       "y &= 4&\n",
       "z &= 5\n",
       "\\end{align*}"
      ],
      "text/plain": [
       "L\"\\begin{align*}\n",
       "a &= 1&\n",
       "b &= 2&\n",
       "c &= 3\n",
       "\\\\[5pt]\n",
       "x &= 3\\;\\text{  }(\\text{hello})&\n",
       "y &= 4&\n",
       "z &= 5\n",
       "\\end{align*}\""
      ]
     },
     "execution_count": 50,
     "metadata": {},
     "output_type": "execute_result"
    }
   ],
   "source": [
    "@handcalcs begin\n",
    "    a = 1\n",
    "    b = 2\n",
    "    c = 3\n",
    "    x = 3 ; \"hello\";\n",
    "    y = 4\n",
    "    z = 5\n",
    "end cols=3 spa=5"
   ]
  },
  {
   "cell_type": "code",
   "execution_count": 51,
   "id": "7cbd6ed5-54e1-4177-986a-350bce9aff01",
   "metadata": {},
   "outputs": [
    {
     "data": {
      "text/latex": [
       "\\begin{align*}\n",
       "z &= x + y = \\left[\n",
       "\\begin{array}{c}\n",
       "1 \\\\\n",
       "2 \\\\\n",
       "3 \\\\\n",
       "\\end{array}\n",
       "\\right] + \\left[\n",
       "\\begin{array}{c}\n",
       "4 \\\\\n",
       "5 \\\\\n",
       "6 \\\\\n",
       "\\end{array}\n",
       "\\right] = \\left[\n",
       "\\begin{array}{c}\n",
       "5 \\\\\n",
       "7 \\\\\n",
       "9 \\\\\n",
       "\\end{array}\n",
       "\\right]\n",
       "\\end{align*}"
      ],
      "text/plain": [
       "L\"\\begin{align*}\n",
       "z &= x + y = \\left[\n",
       "\\begin{array}{c}\n",
       "1 \\\\\n",
       "2 \\\\\n",
       "3 \\\\\n",
       "\\end{array}\n",
       "\\right] + \\left[\n",
       "\\begin{array}{c}\n",
       "4 \\\\\n",
       "5 \\\\\n",
       "6 \\\\\n",
       "\\end{array}\n",
       "\\right] = \\left[\n",
       "\\begin{array}{c}\n",
       "5 \\\\\n",
       "7 \\\\\n",
       "9 \\\\\n",
       "\\end{array}\n",
       "\\right]\n",
       "\\end{align*}\""
      ]
     },
     "execution_count": 51,
     "metadata": {},
     "output_type": "execute_result"
    }
   ],
   "source": [
    "x = [1; 2; 3]\n",
    "y = [4; 5; 6]\n",
    "calc = @handcalcs z = x + y"
   ]
  },
  {
   "cell_type": "code",
   "execution_count": null,
   "id": "e5de1657-fe9c-455e-afa1-d55321da581c",
   "metadata": {},
   "outputs": [],
   "source": []
  }
 ],
 "metadata": {
  "kernelspec": {
   "display_name": "Julia 1.10.0",
   "language": "julia",
   "name": "julia-1.10"
  },
  "language_info": {
   "file_extension": ".jl",
   "mimetype": "application/julia",
   "name": "julia",
   "version": "1.10.0"
  }
 },
 "nbformat": 4,
 "nbformat_minor": 5
}
