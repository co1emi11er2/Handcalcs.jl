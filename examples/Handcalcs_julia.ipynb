{
 "cells": [
  {
   "cell_type": "code",
   "execution_count": 16,
   "metadata": {},
   "outputs": [],
   "source": [
    "using Handcalcs, Unitful, UnitfulLatexify, TestHandcalcFunctions\n",
    "using Format"
   ]
  },
  {
   "cell_type": "code",
   "execution_count": 10,
   "metadata": {},
   "outputs": [],
   "source": [
    "set_default(fmt = x->format(round(x, digits=4)))"
   ]
  },
  {
   "cell_type": "code",
   "execution_count": 11,
   "metadata": {},
   "outputs": [],
   "source": [
    "a = 2\n",
    "b = 5\n",
    "c = 2;"
   ]
  },
  {
   "cell_type": "code",
   "execution_count": 13,
   "metadata": {},
   "outputs": [
    {
     "data": {
      "text/latex": [
       "$\\begin{align}\n",
       "x_{1} &= \\frac{ - b + \\sqrt{b^{2} - 4 \\cdot a \\cdot c}}{2 \\cdot a} = \\frac{ - 5 + \\sqrt{5^{2} - 4 \\cdot 2 \\cdot 2}}{2 \\cdot 2} = -0.5\n",
       "\\end{align}$"
      ],
      "text/plain": [
       "L\"$\\begin{align}\n",
       "x_{1} &= \\frac{ - b + \\sqrt{b^{2} - 4 \\cdot a \\cdot c}}{2 \\cdot a} = \\frac{ - 5 + \\sqrt{5^{2} - 4 \\cdot 2 \\cdot 2}}{2 \\cdot 2} = -0.5\n",
       "\\end{align}$\""
      ]
     },
     "metadata": {},
     "output_type": "display_data"
    }
   ],
   "source": [
    "@handcalcs x_1 = (-b + sqrt(b^2 - 4*a*c))/(2*a)"
   ]
  },
  {
   "cell_type": "code",
   "execution_count": 15,
   "metadata": {},
   "outputs": [
    {
     "data": {
      "text/latex": [
       "$\\begin{align}\n",
       "x_{1} &= \\frac{ - b + \\sqrt{b^{2} - 4 \\cdot a \\cdot c}}{2 \\cdot a} = \\frac{ - 5 + \\sqrt{5^{2} - 4 \\cdot 2 \\cdot 2}}{2 \\cdot 2} = -0.5\n",
       "\\\\x_{2} &= \\frac{ - b - \\sqrt{b^{2} - 4 \\cdot a \\cdot c}}{2 \\cdot a} = \\frac{ - 5 - \\sqrt{5^{2} - 4 \\cdot 2 \\cdot 2}}{2 \\cdot 2} = -2\n",
       "\\end{align}$"
      ],
      "text/plain": [
       "L\"$\\begin{align}\n",
       "x_{1} &= \\frac{ - b + \\sqrt{b^{2} - 4 \\cdot a \\cdot c}}{2 \\cdot a} = \\frac{ - 5 + \\sqrt{5^{2} - 4 \\cdot 2 \\cdot 2}}{2 \\cdot 2} = -0.5\n",
       "\\\\x_{2} &= \\frac{ - b - \\sqrt{b^{2} - 4 \\cdot a \\cdot c}}{2 \\cdot a} = \\frac{ - 5 - \\sqrt{5^{2} - 4 \\cdot 2 \\cdot 2}}{2 \\cdot 2} = -2\n",
       "\\end{align}$\""
      ]
     },
     "metadata": {},
     "output_type": "display_data"
    }
   ],
   "source": [
    "@handcalcs begin \n",
    "    x_1 = (-b + sqrt(b^2 - 4*a*c))/(2*a)\n",
    "    x_2 = (-b - sqrt(b^2 - 4*a*c))/(2*a)\n",
    "end"
   ]
  },
  {
   "cell_type": "code",
   "execution_count": 17,
   "metadata": {},
   "outputs": [
    {
     "data": {
      "text/plain": [
       "15"
      ]
     },
     "metadata": {},
     "output_type": "display_data"
    }
   ],
   "source": [
    "b = 5\n",
    "h = 15"
   ]
  },
  {
   "cell_type": "code",
   "execution_count": 18,
   "metadata": {},
   "outputs": [
    {
     "data": {
      "text/latex": [
       "$\\begin{align}\n",
       "Ix &= \\frac{b \\cdot h^{3}}{12} = \\frac{5 \\cdot 15^{3}}{12} = 1406.25\n",
       "\\end{align}$"
      ],
      "text/plain": [
       "L\"$\\begin{align}\n",
       "Ix &= \\frac{b \\cdot h^{3}}{12} = \\frac{5 \\cdot 15^{3}}{12} = 1406.25\n",
       "\\end{align}$\""
      ]
     },
     "metadata": {},
     "output_type": "display_data"
    }
   ],
   "source": [
    "@handfunc I_x = calc_Ix(5, 15)"
   ]
  },
  {
   "cell_type": "code",
   "execution_count": null,
   "metadata": {},
   "outputs": [],
   "source": []
  }
 ],
 "metadata": {
  "kernelspec": {
   "display_name": "Julia 1.10.0",
   "language": "julia",
   "name": "julia-1.10"
  },
  "language_info": {
   "file_extension": ".jl",
   "mimetype": "application/julia",
   "name": "julia",
   "version": "1.10.0"
  }
 },
 "nbformat": 4,
 "nbformat_minor": 2
}
