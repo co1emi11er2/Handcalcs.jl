import handcalcs.render
from handcalcs.decorator import handcalc
from math import sqrt
import forallpeople
forallpeople.environment("structural", top_level = True) 


import pandas as pd
import matplotlib.pyplot as plt





%%render params
a = 2*inch
b = -5*inch
c = 2*inch
h = 10*inch





%%render
x = (-b + sqrt(b**2 - 4*a*c))/(2*a)


%%render
d = (a + b) * c


@handcalc(jupyter_display=True)
def calc_Ix(b, h):
    I_x = b*h**3/12
    return I_x


I_x = calc_Ix(b, h)





df = pd.DataFrame({"Height": [2*inch, 4*inch, 6*inch], "Width": [1*inch, 3*inch, 5*inch]})
df





y = range(-1000, 1000, 50)
z = [i**2 for i in y]


fig = plt.plot(y, z)
fig



